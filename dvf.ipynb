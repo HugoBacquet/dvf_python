{
  "nbformat": 4,
  "nbformat_minor": 0,
  "metadata": {
    "colab": {
      "provenance": [],
      "mount_file_id": "1Xe0V0NtaLv2SiiHDISB47J-HCWayxk8n",
      "authorship_tag": "ABX9TyPhL+AZrdHlhNIiQvnAXIEu",
      "include_colab_link": true
    },
    "kernelspec": {
      "name": "python3",
      "display_name": "Python 3"
    },
    "language_info": {
      "name": "python"
    }
  },
  "cells": [
    {
      "cell_type": "markdown",
      "metadata": {
        "id": "view-in-github",
        "colab_type": "text"
      },
      "source": [
        "<a href=\"https://colab.research.google.com/github/HugoBacquet/dvf_python/blob/main/dvf.ipynb\" target=\"_parent\"><img src=\"https://colab.research.google.com/assets/colab-badge.svg\" alt=\"Open In Colab\"/></a>"
      ]
    },
    {
      "cell_type": "code",
      "execution_count": 1,
      "metadata": {
        "colab": {
          "base_uri": "https://localhost:8080/"
        },
        "id": "g98hORaGuJKF",
        "outputId": "728c63e9-b7d5-444e-b428-35bfc4cab53d"
      },
      "outputs": [
        {
          "output_type": "stream",
          "name": "stdout",
          "text": [
            "test\n"
          ]
        }
      ],
      "source": [
        "print(\"test\")"
      ]
    },
    {
      "cell_type": "code",
      "source": [
        "ls"
      ],
      "metadata": {
        "colab": {
          "base_uri": "https://localhost:8080/"
        },
        "id": "7jES03dZfonc",
        "outputId": "f7590223-f845-49b4-f8b6-27c1bcc50fde"
      },
      "execution_count": 2,
      "outputs": [
        {
          "output_type": "stream",
          "name": "stdout",
          "text": [
            "\u001b[0m\u001b[01;34msample_data\u001b[0m/\n"
          ]
        }
      ]
    },
    {
      "cell_type": "code",
      "source": [
        "pwd"
      ],
      "metadata": {
        "colab": {
          "base_uri": "https://localhost:8080/",
          "height": 35
        },
        "id": "tbflKjAFfo7p",
        "outputId": "845b04ed-ffce-4275-cb41-149faf5aa4d4"
      },
      "execution_count": 3,
      "outputs": [
        {
          "output_type": "execute_result",
          "data": {
            "text/plain": [
              "'/content'"
            ],
            "application/vnd.google.colaboratory.intrinsic+json": {
              "type": "string"
            }
          },
          "metadata": {},
          "execution_count": 3
        }
      ]
    },
    {
      "cell_type": "markdown",
      "source": [
        "Install Spark "
      ],
      "metadata": {
        "id": "zNKmbYDggUXS"
      }
    },
    {
      "cell_type": "code",
      "source": [
        "!apt-get install openjdk-8-jdk-headless -qq > /dev/null\n",
        "!wget -q http://archive.apache.org/dist/spark/spark-3.1.1/spark-3.1.1-bin-hadoop3.2.tgz\n",
        "!tar xf spark-3.1.1-bin-hadoop3.2.tgz\n",
        "!pip install -q findspark\n",
        "!pip install wget"
      ],
      "metadata": {
        "id": "xDO3xhZSgOnI",
        "colab": {
          "base_uri": "https://localhost:8080/"
        },
        "outputId": "f2af9d4e-78b5-4e91-a3a0-c79b6278070a"
      },
      "execution_count": 4,
      "outputs": [
        {
          "output_type": "stream",
          "name": "stdout",
          "text": [
            "Looking in indexes: https://pypi.org/simple, https://us-python.pkg.dev/colab-wheels/public/simple/\n",
            "Collecting wget\n",
            "  Downloading wget-3.2.zip (10 kB)\n",
            "  Preparing metadata (setup.py) ... \u001b[?25l\u001b[?25hdone\n",
            "Building wheels for collected packages: wget\n",
            "  Building wheel for wget (setup.py) ... \u001b[?25l\u001b[?25hdone\n",
            "  Created wheel for wget: filename=wget-3.2-py3-none-any.whl size=9676 sha256=233f7d5d53bbbc05e67f02c5b9cd819f77db41b4882db038cc1c6241ad2bd816\n",
            "  Stored in directory: /root/.cache/pip/wheels/04/5f/3e/46cc37c5d698415694d83f607f833f83f0149e49b3af9d0f38\n",
            "Successfully built wget\n",
            "Installing collected packages: wget\n",
            "Successfully installed wget-3.2\n"
          ]
        }
      ]
    },
    {
      "cell_type": "markdown",
      "source": [
        "Set environment "
      ],
      "metadata": {
        "id": "yBRmKmJUgrAo"
      }
    },
    {
      "cell_type": "code",
      "source": [
        "import os\n",
        "os.environ[\"JAVA_HOME\"] = \"/usr/lib/jvm/java-8-openjdk-amd64\"\n",
        "os.environ[\"SPARK_HOME\"] = \"/content/spark-3.1.1-bin-hadoop3.2\""
      ],
      "metadata": {
        "id": "2IGG6IMlggnz"
      },
      "execution_count": 5,
      "outputs": []
    },
    {
      "cell_type": "code",
      "source": [
        "import findspark\n",
        "findspark.init()\n",
        "from pyspark.sql import SparkSession\n",
        "spark = SparkSession.builder.master(\"local[*]\").getOrCreate()\n",
        "spark.conf.set(\"spark.sql.repl.eagerEval.enabled\", True) # Property used to format output tables better\n",
        "spark"
      ],
      "metadata": {
        "colab": {
          "base_uri": "https://localhost:8080/",
          "height": 221
        },
        "id": "vvc5QTSPghmM",
        "outputId": "852706d5-bc74-43f1-b861-a6d0ab19d3dc"
      },
      "execution_count": 6,
      "outputs": [
        {
          "output_type": "execute_result",
          "data": {
            "text/plain": [
              "<pyspark.sql.session.SparkSession at 0x7fe2281bbdf0>"
            ],
            "text/html": [
              "\n",
              "            <div>\n",
              "                <p><b>SparkSession - in-memory</b></p>\n",
              "                \n",
              "        <div>\n",
              "            <p><b>SparkContext</b></p>\n",
              "\n",
              "            <p><a href=\"http://80b01017318c:4040\">Spark UI</a></p>\n",
              "\n",
              "            <dl>\n",
              "              <dt>Version</dt>\n",
              "                <dd><code>v3.1.1</code></dd>\n",
              "              <dt>Master</dt>\n",
              "                <dd><code>local[*]</code></dd>\n",
              "              <dt>AppName</dt>\n",
              "                <dd><code>pyspark-shell</code></dd>\n",
              "            </dl>\n",
              "        </div>\n",
              "        \n",
              "            </div>\n",
              "        "
            ]
          },
          "metadata": {},
          "execution_count": 6
        }
      ]
    },
    {
      "cell_type": "markdown",
      "source": [
        "Load data"
      ],
      "metadata": {
        "id": "7SGGKd13gzwc"
      }
    },
    {
      "cell_type": "code",
      "source": [
        "ls"
      ],
      "metadata": {
        "colab": {
          "base_uri": "https://localhost:8080/"
        },
        "id": "DRvZY2_bg3Lc",
        "outputId": "c318ed3c-7813-4747-dd0b-534109397946"
      },
      "execution_count": 7,
      "outputs": [
        {
          "output_type": "stream",
          "name": "stdout",
          "text": [
            "\u001b[0m\u001b[01;34msample_data\u001b[0m/  \u001b[01;34mspark-3.1.1-bin-hadoop3.2\u001b[0m/  spark-3.1.1-bin-hadoop3.2.tgz\n"
          ]
        }
      ]
    },
    {
      "cell_type": "code",
      "source": [
        "import wget\n",
        "\n",
        "url2022 = \"https://static.data.gouv.fr/resources/demandes-de-valeurs-foncieres/20230405-160733/valeursfoncieres-2022.txt\" \n",
        "url2021 = \"https://static.data.gouv.fr/resources/demandes-de-valeurs-foncieres/20230405-155828/valeursfoncieres-2021.txt\" \n",
        "url2020 = \"https://static.data.gouv.fr/resources/demandes-de-valeurs-foncieres/20230405-161156/valeursfoncieres-2020.txt\" \n",
        "url2019 = \"https://static.data.gouv.fr/resources/demandes-de-valeurs-foncieres/20230405-155101/valeursfoncieres-2019.txt\" \n",
        "url2018 = \"https://static.data.gouv.fr/resources/demandes-de-valeurs-foncieres/20230405-154703/valeursfoncieres-2018.txt\" \n",
        "\n",
        "wget.download(url2022)\n",
        "wget.download(url2021)\n",
        "wget.download(url2020)\n",
        "wget.download(url2019)\n",
        "wget.download(url2018)"
      ],
      "metadata": {
        "colab": {
          "base_uri": "https://localhost:8080/",
          "height": 35
        },
        "id": "hZ1RaZpmpNhP",
        "outputId": "383bdf54-3328-476d-ac22-60bfcffc6455"
      },
      "execution_count": 8,
      "outputs": [
        {
          "output_type": "execute_result",
          "data": {
            "text/plain": [
              "'valeursfoncieres-2018.txt'"
            ],
            "application/vnd.google.colaboratory.intrinsic+json": {
              "type": "string"
            }
          },
          "metadata": {},
          "execution_count": 8
        }
      ]
    },
    {
      "cell_type": "code",
      "source": [
        "import pandas as pd\n",
        "  \n",
        "# read text file into pandas DataFrame\n",
        "df = pd.read_csv(\"valeursfoncieres-2022.txt\", sep=\"|\")\n",
        "  \n",
        "# display DataFrame\n",
        "print(df)"
      ],
      "metadata": {
        "colab": {
          "base_uri": "https://localhost:8080/"
        },
        "id": "iX6b5WmFfpPA",
        "outputId": "e0f746ff-99f3-44c3-ee88-f003e784e2e4"
      },
      "execution_count": 9,
      "outputs": [
        {
          "output_type": "stream",
          "name": "stderr",
          "text": [
            "<ipython-input-9-3520c0571c11>:4: DtypeWarning: Columns (18,23,24,26,28,29,31,33,41) have mixed types. Specify dtype option on import or set low_memory=False.\n",
            "  df = pd.read_csv(\"valeursfoncieres-2022.txt\", sep=\"|\")\n"
          ]
        },
        {
          "output_type": "stream",
          "name": "stdout",
          "text": [
            "         Identifiant de document  Reference document  1 Articles CGI  \\\n",
            "0                            NaN                 NaN             NaN   \n",
            "1                            NaN                 NaN             NaN   \n",
            "2                            NaN                 NaN             NaN   \n",
            "3                            NaN                 NaN             NaN   \n",
            "4                            NaN                 NaN             NaN   \n",
            "...                          ...                 ...             ...   \n",
            "3803880                      NaN                 NaN             NaN   \n",
            "3803881                      NaN                 NaN             NaN   \n",
            "3803882                      NaN                 NaN             NaN   \n",
            "3803883                      NaN                 NaN             NaN   \n",
            "3803884                      NaN                 NaN             NaN   \n",
            "\n",
            "         2 Articles CGI  3 Articles CGI  4 Articles CGI  5 Articles CGI  \\\n",
            "0                   NaN             NaN             NaN             NaN   \n",
            "1                   NaN             NaN             NaN             NaN   \n",
            "2                   NaN             NaN             NaN             NaN   \n",
            "3                   NaN             NaN             NaN             NaN   \n",
            "4                   NaN             NaN             NaN             NaN   \n",
            "...                 ...             ...             ...             ...   \n",
            "3803880             NaN             NaN             NaN             NaN   \n",
            "3803881             NaN             NaN             NaN             NaN   \n",
            "3803882             NaN             NaN             NaN             NaN   \n",
            "3803883             NaN             NaN             NaN             NaN   \n",
            "3803884             NaN             NaN             NaN             NaN   \n",
            "\n",
            "         No disposition Date mutation Nature mutation  ...  \\\n",
            "0                     1    03/01/2022           Vente  ...   \n",
            "1                     1    03/01/2022           Vente  ...   \n",
            "2                     1    03/01/2022           Vente  ...   \n",
            "3                     1    03/01/2022           Vente  ...   \n",
            "4                     1    04/01/2022           Vente  ...   \n",
            "...                 ...           ...             ...  ...   \n",
            "3803880               1    30/12/2022           Vente  ...   \n",
            "3803881               1    19/12/2022           Vente  ...   \n",
            "3803882               1    19/12/2022           Vente  ...   \n",
            "3803883               1    30/12/2022           Vente  ...   \n",
            "3803884               1    21/11/2022           Vente  ...   \n",
            "\n",
            "        Surface Carrez du 5eme lot  Nombre de lots Code type local  \\\n",
            "0                              NaN               1             2.0   \n",
            "1                              NaN               0             NaN   \n",
            "2                              NaN               0             NaN   \n",
            "3                              NaN               1             2.0   \n",
            "4                              NaN               0             NaN   \n",
            "...                            ...             ...             ...   \n",
            "3803880                        NaN               1             4.0   \n",
            "3803881                        NaN               2             3.0   \n",
            "3803882                        NaN               2             2.0   \n",
            "3803883                        NaN               1             3.0   \n",
            "3803884                        NaN               1             3.0   \n",
            "\n",
            "                                       Type local Identifiant local  \\\n",
            "0                                     Appartement               NaN   \n",
            "1                                             NaN               NaN   \n",
            "2                                             NaN               NaN   \n",
            "3                                     Appartement               NaN   \n",
            "4                                             NaN               NaN   \n",
            "...                                           ...               ...   \n",
            "3803880  Local industriel. commercial ou assimilé               NaN   \n",
            "3803881                                Dépendance               NaN   \n",
            "3803882                               Appartement               NaN   \n",
            "3803883                                Dépendance               NaN   \n",
            "3803884                                Dépendance               NaN   \n",
            "\n",
            "        Surface reelle bati  Nombre pieces principales Nature culture  \\\n",
            "0                      24.0                        1.0            NaN   \n",
            "1                       NaN                        NaN              S   \n",
            "2                       NaN                        NaN              S   \n",
            "3                     140.0                        3.0            NaN   \n",
            "4                       NaN                        NaN              T   \n",
            "...                     ...                        ...            ...   \n",
            "3803880               327.0                        0.0            NaN   \n",
            "3803881                 0.0                        0.0            NaN   \n",
            "3803882                40.0                        3.0            NaN   \n",
            "3803883                 0.0                        0.0            NaN   \n",
            "3803884                 0.0                        0.0            NaN   \n",
            "\n",
            "        Nature culture speciale  Surface terrain  \n",
            "0                           NaN              NaN  \n",
            "1                           NaN             84.0  \n",
            "2                           NaN             88.0  \n",
            "3                           NaN              NaN  \n",
            "4                           NaN            510.0  \n",
            "...                         ...              ...  \n",
            "3803880                     NaN              NaN  \n",
            "3803881                     NaN              NaN  \n",
            "3803882                     NaN              NaN  \n",
            "3803883                     NaN              NaN  \n",
            "3803884                     NaN              NaN  \n",
            "\n",
            "[3803885 rows x 43 columns]\n"
          ]
        }
      ]
    },
    {
      "cell_type": "code",
      "source": [
        "df.dtypes"
      ],
      "metadata": {
        "colab": {
          "base_uri": "https://localhost:8080/"
        },
        "id": "YusyhTzQsxzy",
        "outputId": "9044db44-436f-49f3-d587-23b0848f3b06"
      },
      "execution_count": 10,
      "outputs": [
        {
          "output_type": "execute_result",
          "data": {
            "text/plain": [
              "Identifiant de document       float64\n",
              "Reference document            float64\n",
              "1 Articles CGI                float64\n",
              "2 Articles CGI                float64\n",
              "3 Articles CGI                float64\n",
              "4 Articles CGI                float64\n",
              "5 Articles CGI                float64\n",
              "No disposition                  int64\n",
              "Date mutation                  object\n",
              "Nature mutation                object\n",
              "Valeur fonciere                object\n",
              "No voie                       float64\n",
              "B/T/Q                          object\n",
              "Type de voie                   object\n",
              "Code voie                      object\n",
              "Voie                           object\n",
              "Code postal                   float64\n",
              "Commune                        object\n",
              "Code departement               object\n",
              "Code commune                    int64\n",
              "Prefixe de section            float64\n",
              "Section                        object\n",
              "No plan                         int64\n",
              "No Volume                      object\n",
              "1er lot                        object\n",
              "Surface Carrez du 1er lot      object\n",
              "2eme lot                       object\n",
              "Surface Carrez du 2eme lot     object\n",
              "3eme lot                       object\n",
              "Surface Carrez du 3eme lot     object\n",
              "4eme lot                      float64\n",
              "Surface Carrez du 4eme lot     object\n",
              "5eme lot                      float64\n",
              "Surface Carrez du 5eme lot     object\n",
              "Nombre de lots                  int64\n",
              "Code type local               float64\n",
              "Type local                     object\n",
              "Identifiant local             float64\n",
              "Surface reelle bati           float64\n",
              "Nombre pieces principales     float64\n",
              "Nature culture                 object\n",
              "Nature culture speciale        object\n",
              "Surface terrain               float64\n",
              "dtype: object"
            ]
          },
          "metadata": {},
          "execution_count": 10
        }
      ]
    },
    {
      "cell_type": "code",
      "source": [
        "df.columns"
      ],
      "metadata": {
        "colab": {
          "base_uri": "https://localhost:8080/"
        },
        "id": "urX-pqMPpWNf",
        "outputId": "955dcd3e-26a0-40f8-9b4f-e250d3b80303"
      },
      "execution_count": 11,
      "outputs": [
        {
          "output_type": "execute_result",
          "data": {
            "text/plain": [
              "Index(['Identifiant de document', 'Reference document', '1 Articles CGI',\n",
              "       '2 Articles CGI', '3 Articles CGI', '4 Articles CGI', '5 Articles CGI',\n",
              "       'No disposition', 'Date mutation', 'Nature mutation', 'Valeur fonciere',\n",
              "       'No voie', 'B/T/Q', 'Type de voie', 'Code voie', 'Voie', 'Code postal',\n",
              "       'Commune', 'Code departement', 'Code commune', 'Prefixe de section',\n",
              "       'Section', 'No plan', 'No Volume', '1er lot',\n",
              "       'Surface Carrez du 1er lot', '2eme lot', 'Surface Carrez du 2eme lot',\n",
              "       '3eme lot', 'Surface Carrez du 3eme lot', '4eme lot',\n",
              "       'Surface Carrez du 4eme lot', '5eme lot', 'Surface Carrez du 5eme lot',\n",
              "       'Nombre de lots', 'Code type local', 'Type local', 'Identifiant local',\n",
              "       'Surface reelle bati', 'Nombre pieces principales', 'Nature culture',\n",
              "       'Nature culture speciale', 'Surface terrain'],\n",
              "      dtype='object')"
            ]
          },
          "metadata": {},
          "execution_count": 11
        }
      ]
    },
    {
      "cell_type": "code",
      "source": [
        "df.head(10)"
      ],
      "metadata": {
        "colab": {
          "base_uri": "https://localhost:8080/",
          "height": 560
        },
        "id": "kyCOefHfpl-f",
        "outputId": "b93dee43-87f2-425e-e47e-4be3c08307ae"
      },
      "execution_count": 12,
      "outputs": [
        {
          "output_type": "execute_result",
          "data": {
            "text/plain": [
              "   Identifiant de document  Reference document  1 Articles CGI  \\\n",
              "0                      NaN                 NaN             NaN   \n",
              "1                      NaN                 NaN             NaN   \n",
              "2                      NaN                 NaN             NaN   \n",
              "3                      NaN                 NaN             NaN   \n",
              "4                      NaN                 NaN             NaN   \n",
              "5                      NaN                 NaN             NaN   \n",
              "6                      NaN                 NaN             NaN   \n",
              "7                      NaN                 NaN             NaN   \n",
              "8                      NaN                 NaN             NaN   \n",
              "9                      NaN                 NaN             NaN   \n",
              "\n",
              "   2 Articles CGI  3 Articles CGI  4 Articles CGI  5 Articles CGI  \\\n",
              "0             NaN             NaN             NaN             NaN   \n",
              "1             NaN             NaN             NaN             NaN   \n",
              "2             NaN             NaN             NaN             NaN   \n",
              "3             NaN             NaN             NaN             NaN   \n",
              "4             NaN             NaN             NaN             NaN   \n",
              "5             NaN             NaN             NaN             NaN   \n",
              "6             NaN             NaN             NaN             NaN   \n",
              "7             NaN             NaN             NaN             NaN   \n",
              "8             NaN             NaN             NaN             NaN   \n",
              "9             NaN             NaN             NaN             NaN   \n",
              "\n",
              "   No disposition Date mutation Nature mutation  ...  \\\n",
              "0               1    03/01/2022           Vente  ...   \n",
              "1               1    03/01/2022           Vente  ...   \n",
              "2               1    03/01/2022           Vente  ...   \n",
              "3               1    03/01/2022           Vente  ...   \n",
              "4               1    04/01/2022           Vente  ...   \n",
              "5               1    06/01/2022           Vente  ...   \n",
              "6               1    06/01/2022           Vente  ...   \n",
              "7               1    03/01/2022           Vente  ...   \n",
              "8               1    03/01/2022           Vente  ...   \n",
              "9               1    03/01/2022           Vente  ...   \n",
              "\n",
              "  Surface Carrez du 5eme lot  Nombre de lots Code type local  \\\n",
              "0                        NaN               1             2.0   \n",
              "1                        NaN               0             NaN   \n",
              "2                        NaN               0             NaN   \n",
              "3                        NaN               1             2.0   \n",
              "4                        NaN               0             NaN   \n",
              "5                        NaN               0             1.0   \n",
              "6                        NaN               0             NaN   \n",
              "7                        NaN               0             NaN   \n",
              "8                        NaN               0             4.0   \n",
              "9                        NaN               0             2.0   \n",
              "\n",
              "                                 Type local Identifiant local  \\\n",
              "0                               Appartement               NaN   \n",
              "1                                       NaN               NaN   \n",
              "2                                       NaN               NaN   \n",
              "3                               Appartement               NaN   \n",
              "4                                       NaN               NaN   \n",
              "5                                    Maison               NaN   \n",
              "6                                       NaN               NaN   \n",
              "7                                       NaN               NaN   \n",
              "8  Local industriel. commercial ou assimilé               NaN   \n",
              "9                               Appartement               NaN   \n",
              "\n",
              "  Surface reelle bati  Nombre pieces principales Nature culture  \\\n",
              "0                24.0                        1.0            NaN   \n",
              "1                 NaN                        NaN              S   \n",
              "2                 NaN                        NaN              S   \n",
              "3               140.0                        3.0            NaN   \n",
              "4                 NaN                        NaN              T   \n",
              "5               108.0                        5.0              S   \n",
              "6                 NaN                        NaN              S   \n",
              "7                 NaN                        NaN              S   \n",
              "8               424.0                        0.0              S   \n",
              "9               126.0                        4.0              S   \n",
              "\n",
              "  Nature culture speciale  Surface terrain  \n",
              "0                     NaN              NaN  \n",
              "1                     NaN             84.0  \n",
              "2                     NaN             88.0  \n",
              "3                     NaN              NaN  \n",
              "4                     NaN            510.0  \n",
              "5                     NaN            649.0  \n",
              "6                     NaN            360.0  \n",
              "7                     NaN             50.0  \n",
              "8                     NaN            628.0  \n",
              "9                     NaN            628.0  \n",
              "\n",
              "[10 rows x 43 columns]"
            ],
            "text/html": [
              "\n",
              "  <div id=\"df-1af29066-a7ce-49ef-99a4-c1fdfb4289d6\">\n",
              "    <div class=\"colab-df-container\">\n",
              "      <div>\n",
              "<style scoped>\n",
              "    .dataframe tbody tr th:only-of-type {\n",
              "        vertical-align: middle;\n",
              "    }\n",
              "\n",
              "    .dataframe tbody tr th {\n",
              "        vertical-align: top;\n",
              "    }\n",
              "\n",
              "    .dataframe thead th {\n",
              "        text-align: right;\n",
              "    }\n",
              "</style>\n",
              "<table border=\"1\" class=\"dataframe\">\n",
              "  <thead>\n",
              "    <tr style=\"text-align: right;\">\n",
              "      <th></th>\n",
              "      <th>Identifiant de document</th>\n",
              "      <th>Reference document</th>\n",
              "      <th>1 Articles CGI</th>\n",
              "      <th>2 Articles CGI</th>\n",
              "      <th>3 Articles CGI</th>\n",
              "      <th>4 Articles CGI</th>\n",
              "      <th>5 Articles CGI</th>\n",
              "      <th>No disposition</th>\n",
              "      <th>Date mutation</th>\n",
              "      <th>Nature mutation</th>\n",
              "      <th>...</th>\n",
              "      <th>Surface Carrez du 5eme lot</th>\n",
              "      <th>Nombre de lots</th>\n",
              "      <th>Code type local</th>\n",
              "      <th>Type local</th>\n",
              "      <th>Identifiant local</th>\n",
              "      <th>Surface reelle bati</th>\n",
              "      <th>Nombre pieces principales</th>\n",
              "      <th>Nature culture</th>\n",
              "      <th>Nature culture speciale</th>\n",
              "      <th>Surface terrain</th>\n",
              "    </tr>\n",
              "  </thead>\n",
              "  <tbody>\n",
              "    <tr>\n",
              "      <th>0</th>\n",
              "      <td>NaN</td>\n",
              "      <td>NaN</td>\n",
              "      <td>NaN</td>\n",
              "      <td>NaN</td>\n",
              "      <td>NaN</td>\n",
              "      <td>NaN</td>\n",
              "      <td>NaN</td>\n",
              "      <td>1</td>\n",
              "      <td>03/01/2022</td>\n",
              "      <td>Vente</td>\n",
              "      <td>...</td>\n",
              "      <td>NaN</td>\n",
              "      <td>1</td>\n",
              "      <td>2.0</td>\n",
              "      <td>Appartement</td>\n",
              "      <td>NaN</td>\n",
              "      <td>24.0</td>\n",
              "      <td>1.0</td>\n",
              "      <td>NaN</td>\n",
              "      <td>NaN</td>\n",
              "      <td>NaN</td>\n",
              "    </tr>\n",
              "    <tr>\n",
              "      <th>1</th>\n",
              "      <td>NaN</td>\n",
              "      <td>NaN</td>\n",
              "      <td>NaN</td>\n",
              "      <td>NaN</td>\n",
              "      <td>NaN</td>\n",
              "      <td>NaN</td>\n",
              "      <td>NaN</td>\n",
              "      <td>1</td>\n",
              "      <td>03/01/2022</td>\n",
              "      <td>Vente</td>\n",
              "      <td>...</td>\n",
              "      <td>NaN</td>\n",
              "      <td>0</td>\n",
              "      <td>NaN</td>\n",
              "      <td>NaN</td>\n",
              "      <td>NaN</td>\n",
              "      <td>NaN</td>\n",
              "      <td>NaN</td>\n",
              "      <td>S</td>\n",
              "      <td>NaN</td>\n",
              "      <td>84.0</td>\n",
              "    </tr>\n",
              "    <tr>\n",
              "      <th>2</th>\n",
              "      <td>NaN</td>\n",
              "      <td>NaN</td>\n",
              "      <td>NaN</td>\n",
              "      <td>NaN</td>\n",
              "      <td>NaN</td>\n",
              "      <td>NaN</td>\n",
              "      <td>NaN</td>\n",
              "      <td>1</td>\n",
              "      <td>03/01/2022</td>\n",
              "      <td>Vente</td>\n",
              "      <td>...</td>\n",
              "      <td>NaN</td>\n",
              "      <td>0</td>\n",
              "      <td>NaN</td>\n",
              "      <td>NaN</td>\n",
              "      <td>NaN</td>\n",
              "      <td>NaN</td>\n",
              "      <td>NaN</td>\n",
              "      <td>S</td>\n",
              "      <td>NaN</td>\n",
              "      <td>88.0</td>\n",
              "    </tr>\n",
              "    <tr>\n",
              "      <th>3</th>\n",
              "      <td>NaN</td>\n",
              "      <td>NaN</td>\n",
              "      <td>NaN</td>\n",
              "      <td>NaN</td>\n",
              "      <td>NaN</td>\n",
              "      <td>NaN</td>\n",
              "      <td>NaN</td>\n",
              "      <td>1</td>\n",
              "      <td>03/01/2022</td>\n",
              "      <td>Vente</td>\n",
              "      <td>...</td>\n",
              "      <td>NaN</td>\n",
              "      <td>1</td>\n",
              "      <td>2.0</td>\n",
              "      <td>Appartement</td>\n",
              "      <td>NaN</td>\n",
              "      <td>140.0</td>\n",
              "      <td>3.0</td>\n",
              "      <td>NaN</td>\n",
              "      <td>NaN</td>\n",
              "      <td>NaN</td>\n",
              "    </tr>\n",
              "    <tr>\n",
              "      <th>4</th>\n",
              "      <td>NaN</td>\n",
              "      <td>NaN</td>\n",
              "      <td>NaN</td>\n",
              "      <td>NaN</td>\n",
              "      <td>NaN</td>\n",
              "      <td>NaN</td>\n",
              "      <td>NaN</td>\n",
              "      <td>1</td>\n",
              "      <td>04/01/2022</td>\n",
              "      <td>Vente</td>\n",
              "      <td>...</td>\n",
              "      <td>NaN</td>\n",
              "      <td>0</td>\n",
              "      <td>NaN</td>\n",
              "      <td>NaN</td>\n",
              "      <td>NaN</td>\n",
              "      <td>NaN</td>\n",
              "      <td>NaN</td>\n",
              "      <td>T</td>\n",
              "      <td>NaN</td>\n",
              "      <td>510.0</td>\n",
              "    </tr>\n",
              "    <tr>\n",
              "      <th>5</th>\n",
              "      <td>NaN</td>\n",
              "      <td>NaN</td>\n",
              "      <td>NaN</td>\n",
              "      <td>NaN</td>\n",
              "      <td>NaN</td>\n",
              "      <td>NaN</td>\n",
              "      <td>NaN</td>\n",
              "      <td>1</td>\n",
              "      <td>06/01/2022</td>\n",
              "      <td>Vente</td>\n",
              "      <td>...</td>\n",
              "      <td>NaN</td>\n",
              "      <td>0</td>\n",
              "      <td>1.0</td>\n",
              "      <td>Maison</td>\n",
              "      <td>NaN</td>\n",
              "      <td>108.0</td>\n",
              "      <td>5.0</td>\n",
              "      <td>S</td>\n",
              "      <td>NaN</td>\n",
              "      <td>649.0</td>\n",
              "    </tr>\n",
              "    <tr>\n",
              "      <th>6</th>\n",
              "      <td>NaN</td>\n",
              "      <td>NaN</td>\n",
              "      <td>NaN</td>\n",
              "      <td>NaN</td>\n",
              "      <td>NaN</td>\n",
              "      <td>NaN</td>\n",
              "      <td>NaN</td>\n",
              "      <td>1</td>\n",
              "      <td>06/01/2022</td>\n",
              "      <td>Vente</td>\n",
              "      <td>...</td>\n",
              "      <td>NaN</td>\n",
              "      <td>0</td>\n",
              "      <td>NaN</td>\n",
              "      <td>NaN</td>\n",
              "      <td>NaN</td>\n",
              "      <td>NaN</td>\n",
              "      <td>NaN</td>\n",
              "      <td>S</td>\n",
              "      <td>NaN</td>\n",
              "      <td>360.0</td>\n",
              "    </tr>\n",
              "    <tr>\n",
              "      <th>7</th>\n",
              "      <td>NaN</td>\n",
              "      <td>NaN</td>\n",
              "      <td>NaN</td>\n",
              "      <td>NaN</td>\n",
              "      <td>NaN</td>\n",
              "      <td>NaN</td>\n",
              "      <td>NaN</td>\n",
              "      <td>1</td>\n",
              "      <td>03/01/2022</td>\n",
              "      <td>Vente</td>\n",
              "      <td>...</td>\n",
              "      <td>NaN</td>\n",
              "      <td>0</td>\n",
              "      <td>NaN</td>\n",
              "      <td>NaN</td>\n",
              "      <td>NaN</td>\n",
              "      <td>NaN</td>\n",
              "      <td>NaN</td>\n",
              "      <td>S</td>\n",
              "      <td>NaN</td>\n",
              "      <td>50.0</td>\n",
              "    </tr>\n",
              "    <tr>\n",
              "      <th>8</th>\n",
              "      <td>NaN</td>\n",
              "      <td>NaN</td>\n",
              "      <td>NaN</td>\n",
              "      <td>NaN</td>\n",
              "      <td>NaN</td>\n",
              "      <td>NaN</td>\n",
              "      <td>NaN</td>\n",
              "      <td>1</td>\n",
              "      <td>03/01/2022</td>\n",
              "      <td>Vente</td>\n",
              "      <td>...</td>\n",
              "      <td>NaN</td>\n",
              "      <td>0</td>\n",
              "      <td>4.0</td>\n",
              "      <td>Local industriel. commercial ou assimilé</td>\n",
              "      <td>NaN</td>\n",
              "      <td>424.0</td>\n",
              "      <td>0.0</td>\n",
              "      <td>S</td>\n",
              "      <td>NaN</td>\n",
              "      <td>628.0</td>\n",
              "    </tr>\n",
              "    <tr>\n",
              "      <th>9</th>\n",
              "      <td>NaN</td>\n",
              "      <td>NaN</td>\n",
              "      <td>NaN</td>\n",
              "      <td>NaN</td>\n",
              "      <td>NaN</td>\n",
              "      <td>NaN</td>\n",
              "      <td>NaN</td>\n",
              "      <td>1</td>\n",
              "      <td>03/01/2022</td>\n",
              "      <td>Vente</td>\n",
              "      <td>...</td>\n",
              "      <td>NaN</td>\n",
              "      <td>0</td>\n",
              "      <td>2.0</td>\n",
              "      <td>Appartement</td>\n",
              "      <td>NaN</td>\n",
              "      <td>126.0</td>\n",
              "      <td>4.0</td>\n",
              "      <td>S</td>\n",
              "      <td>NaN</td>\n",
              "      <td>628.0</td>\n",
              "    </tr>\n",
              "  </tbody>\n",
              "</table>\n",
              "<p>10 rows × 43 columns</p>\n",
              "</div>\n",
              "      <button class=\"colab-df-convert\" onclick=\"convertToInteractive('df-1af29066-a7ce-49ef-99a4-c1fdfb4289d6')\"\n",
              "              title=\"Convert this dataframe to an interactive table.\"\n",
              "              style=\"display:none;\">\n",
              "        \n",
              "  <svg xmlns=\"http://www.w3.org/2000/svg\" height=\"24px\"viewBox=\"0 0 24 24\"\n",
              "       width=\"24px\">\n",
              "    <path d=\"M0 0h24v24H0V0z\" fill=\"none\"/>\n",
              "    <path d=\"M18.56 5.44l.94 2.06.94-2.06 2.06-.94-2.06-.94-.94-2.06-.94 2.06-2.06.94zm-11 1L8.5 8.5l.94-2.06 2.06-.94-2.06-.94L8.5 2.5l-.94 2.06-2.06.94zm10 10l.94 2.06.94-2.06 2.06-.94-2.06-.94-.94-2.06-.94 2.06-2.06.94z\"/><path d=\"M17.41 7.96l-1.37-1.37c-.4-.4-.92-.59-1.43-.59-.52 0-1.04.2-1.43.59L10.3 9.45l-7.72 7.72c-.78.78-.78 2.05 0 2.83L4 21.41c.39.39.9.59 1.41.59.51 0 1.02-.2 1.41-.59l7.78-7.78 2.81-2.81c.8-.78.8-2.07 0-2.86zM5.41 20L4 18.59l7.72-7.72 1.47 1.35L5.41 20z\"/>\n",
              "  </svg>\n",
              "      </button>\n",
              "      \n",
              "  <style>\n",
              "    .colab-df-container {\n",
              "      display:flex;\n",
              "      flex-wrap:wrap;\n",
              "      gap: 12px;\n",
              "    }\n",
              "\n",
              "    .colab-df-convert {\n",
              "      background-color: #E8F0FE;\n",
              "      border: none;\n",
              "      border-radius: 50%;\n",
              "      cursor: pointer;\n",
              "      display: none;\n",
              "      fill: #1967D2;\n",
              "      height: 32px;\n",
              "      padding: 0 0 0 0;\n",
              "      width: 32px;\n",
              "    }\n",
              "\n",
              "    .colab-df-convert:hover {\n",
              "      background-color: #E2EBFA;\n",
              "      box-shadow: 0px 1px 2px rgba(60, 64, 67, 0.3), 0px 1px 3px 1px rgba(60, 64, 67, 0.15);\n",
              "      fill: #174EA6;\n",
              "    }\n",
              "\n",
              "    [theme=dark] .colab-df-convert {\n",
              "      background-color: #3B4455;\n",
              "      fill: #D2E3FC;\n",
              "    }\n",
              "\n",
              "    [theme=dark] .colab-df-convert:hover {\n",
              "      background-color: #434B5C;\n",
              "      box-shadow: 0px 1px 3px 1px rgba(0, 0, 0, 0.15);\n",
              "      filter: drop-shadow(0px 1px 2px rgba(0, 0, 0, 0.3));\n",
              "      fill: #FFFFFF;\n",
              "    }\n",
              "  </style>\n",
              "\n",
              "      <script>\n",
              "        const buttonEl =\n",
              "          document.querySelector('#df-1af29066-a7ce-49ef-99a4-c1fdfb4289d6 button.colab-df-convert');\n",
              "        buttonEl.style.display =\n",
              "          google.colab.kernel.accessAllowed ? 'block' : 'none';\n",
              "\n",
              "        async function convertToInteractive(key) {\n",
              "          const element = document.querySelector('#df-1af29066-a7ce-49ef-99a4-c1fdfb4289d6');\n",
              "          const dataTable =\n",
              "            await google.colab.kernel.invokeFunction('convertToInteractive',\n",
              "                                                     [key], {});\n",
              "          if (!dataTable) return;\n",
              "\n",
              "          const docLinkHtml = 'Like what you see? Visit the ' +\n",
              "            '<a target=\"_blank\" href=https://colab.research.google.com/notebooks/data_table.ipynb>data table notebook</a>'\n",
              "            + ' to learn more about interactive tables.';\n",
              "          element.innerHTML = '';\n",
              "          dataTable['output_type'] = 'display_data';\n",
              "          await google.colab.output.renderOutput(dataTable, element);\n",
              "          const docLink = document.createElement('div');\n",
              "          docLink.innerHTML = docLinkHtml;\n",
              "          element.appendChild(docLink);\n",
              "        }\n",
              "      </script>\n",
              "    </div>\n",
              "  </div>\n",
              "  "
            ]
          },
          "metadata": {},
          "execution_count": 12
        }
      ]
    },
    {
      "cell_type": "code",
      "source": [
        "df[['Date mutation', 'Nature mutation', 'Valeur fonciere','No voie', 'Type de voie', 'Voie', 'Code postal','Code departement','Commune','Surface Carrez du 1er lot', 'Surface reelle bati', 'Nombre pieces principales','Surface terrain']]"
      ],
      "metadata": {
        "colab": {
          "base_uri": "https://localhost:8080/",
          "height": 713
        },
        "id": "UgL0GBe5qPpp",
        "outputId": "08825d6e-fd2e-4e73-afa7-eb233a99a7c4"
      },
      "execution_count": 13,
      "outputs": [
        {
          "output_type": "execute_result",
          "data": {
            "text/plain": [
              "        Date mutation Nature mutation Valeur fonciere  No voie Type de voie  \\\n",
              "0          03/01/2022           Vente        55000,00     13.0          RUE   \n",
              "1          03/01/2022           Vente       143000,00      NaN          NaN   \n",
              "2          03/01/2022           Vente       143000,00      NaN          NaN   \n",
              "3          03/01/2022           Vente       143000,00     98.0          RTE   \n",
              "4          04/01/2022           Vente          300,00      NaN          NaN   \n",
              "...               ...             ...             ...      ...          ...   \n",
              "3803880    30/12/2022           Vente      3500000,00     19.0          RUE   \n",
              "3803881    19/12/2022           Vente       525000,00      3.0          RUE   \n",
              "3803882    19/12/2022           Vente       525000,00      3.0          RUE   \n",
              "3803883    30/12/2022           Vente        15500,00     69.0          RUE   \n",
              "3803884    21/11/2022           Vente        30000,00     48.0          RUE   \n",
              "\n",
              "                      Voie  Code postal Code departement            Commune  \\\n",
              "0            DE LA LIBERTE       1000.0                1    BOURG-EN-BRESSE   \n",
              "1             CHAMP COCHET       1480.0                1          SAVIGNEUX   \n",
              "2             CHAMP COCHET       1480.0                1          SAVIGNEUX   \n",
              "3             DE LA DOMBES       1480.0                1          SAVIGNEUX   \n",
              "4              AUX PIERRES       1480.0                1  MESSIMY SUR SAONE   \n",
              "...                    ...          ...              ...                ...   \n",
              "3803880        JEAN DOLENT      75014.0               75           PARIS 14   \n",
              "3803881  FREDERIC MAGISSON      75015.0               75           PARIS 15   \n",
              "3803882  FREDERIC MAGISSON      75015.0               75           PARIS 15   \n",
              "3803883           BARRAULT      75013.0               75           PARIS 13   \n",
              "3803884     DE LA ROQUETTE      75011.0               75           PARIS 11   \n",
              "\n",
              "        Surface Carrez du 1er lot  Surface reelle bati  \\\n",
              "0                           24,10                 24.0   \n",
              "1                             NaN                  NaN   \n",
              "2                             NaN                  NaN   \n",
              "3                          123,23                140.0   \n",
              "4                             NaN                  NaN   \n",
              "...                           ...                  ...   \n",
              "3803880                       NaN                327.0   \n",
              "3803881                     46,65                  0.0   \n",
              "3803882                     46,65                 40.0   \n",
              "3803883                       NaN                  0.0   \n",
              "3803884                       NaN                  0.0   \n",
              "\n",
              "         Nombre pieces principales  Surface terrain  \n",
              "0                              1.0              NaN  \n",
              "1                              NaN             84.0  \n",
              "2                              NaN             88.0  \n",
              "3                              3.0              NaN  \n",
              "4                              NaN            510.0  \n",
              "...                            ...              ...  \n",
              "3803880                        0.0              NaN  \n",
              "3803881                        0.0              NaN  \n",
              "3803882                        3.0              NaN  \n",
              "3803883                        0.0              NaN  \n",
              "3803884                        0.0              NaN  \n",
              "\n",
              "[3803885 rows x 13 columns]"
            ],
            "text/html": [
              "\n",
              "  <div id=\"df-6fddfe8d-1a74-4362-b95d-c200b4a9aa33\">\n",
              "    <div class=\"colab-df-container\">\n",
              "      <div>\n",
              "<style scoped>\n",
              "    .dataframe tbody tr th:only-of-type {\n",
              "        vertical-align: middle;\n",
              "    }\n",
              "\n",
              "    .dataframe tbody tr th {\n",
              "        vertical-align: top;\n",
              "    }\n",
              "\n",
              "    .dataframe thead th {\n",
              "        text-align: right;\n",
              "    }\n",
              "</style>\n",
              "<table border=\"1\" class=\"dataframe\">\n",
              "  <thead>\n",
              "    <tr style=\"text-align: right;\">\n",
              "      <th></th>\n",
              "      <th>Date mutation</th>\n",
              "      <th>Nature mutation</th>\n",
              "      <th>Valeur fonciere</th>\n",
              "      <th>No voie</th>\n",
              "      <th>Type de voie</th>\n",
              "      <th>Voie</th>\n",
              "      <th>Code postal</th>\n",
              "      <th>Code departement</th>\n",
              "      <th>Commune</th>\n",
              "      <th>Surface Carrez du 1er lot</th>\n",
              "      <th>Surface reelle bati</th>\n",
              "      <th>Nombre pieces principales</th>\n",
              "      <th>Surface terrain</th>\n",
              "    </tr>\n",
              "  </thead>\n",
              "  <tbody>\n",
              "    <tr>\n",
              "      <th>0</th>\n",
              "      <td>03/01/2022</td>\n",
              "      <td>Vente</td>\n",
              "      <td>55000,00</td>\n",
              "      <td>13.0</td>\n",
              "      <td>RUE</td>\n",
              "      <td>DE LA LIBERTE</td>\n",
              "      <td>1000.0</td>\n",
              "      <td>1</td>\n",
              "      <td>BOURG-EN-BRESSE</td>\n",
              "      <td>24,10</td>\n",
              "      <td>24.0</td>\n",
              "      <td>1.0</td>\n",
              "      <td>NaN</td>\n",
              "    </tr>\n",
              "    <tr>\n",
              "      <th>1</th>\n",
              "      <td>03/01/2022</td>\n",
              "      <td>Vente</td>\n",
              "      <td>143000,00</td>\n",
              "      <td>NaN</td>\n",
              "      <td>NaN</td>\n",
              "      <td>CHAMP COCHET</td>\n",
              "      <td>1480.0</td>\n",
              "      <td>1</td>\n",
              "      <td>SAVIGNEUX</td>\n",
              "      <td>NaN</td>\n",
              "      <td>NaN</td>\n",
              "      <td>NaN</td>\n",
              "      <td>84.0</td>\n",
              "    </tr>\n",
              "    <tr>\n",
              "      <th>2</th>\n",
              "      <td>03/01/2022</td>\n",
              "      <td>Vente</td>\n",
              "      <td>143000,00</td>\n",
              "      <td>NaN</td>\n",
              "      <td>NaN</td>\n",
              "      <td>CHAMP COCHET</td>\n",
              "      <td>1480.0</td>\n",
              "      <td>1</td>\n",
              "      <td>SAVIGNEUX</td>\n",
              "      <td>NaN</td>\n",
              "      <td>NaN</td>\n",
              "      <td>NaN</td>\n",
              "      <td>88.0</td>\n",
              "    </tr>\n",
              "    <tr>\n",
              "      <th>3</th>\n",
              "      <td>03/01/2022</td>\n",
              "      <td>Vente</td>\n",
              "      <td>143000,00</td>\n",
              "      <td>98.0</td>\n",
              "      <td>RTE</td>\n",
              "      <td>DE LA DOMBES</td>\n",
              "      <td>1480.0</td>\n",
              "      <td>1</td>\n",
              "      <td>SAVIGNEUX</td>\n",
              "      <td>123,23</td>\n",
              "      <td>140.0</td>\n",
              "      <td>3.0</td>\n",
              "      <td>NaN</td>\n",
              "    </tr>\n",
              "    <tr>\n",
              "      <th>4</th>\n",
              "      <td>04/01/2022</td>\n",
              "      <td>Vente</td>\n",
              "      <td>300,00</td>\n",
              "      <td>NaN</td>\n",
              "      <td>NaN</td>\n",
              "      <td>AUX PIERRES</td>\n",
              "      <td>1480.0</td>\n",
              "      <td>1</td>\n",
              "      <td>MESSIMY SUR SAONE</td>\n",
              "      <td>NaN</td>\n",
              "      <td>NaN</td>\n",
              "      <td>NaN</td>\n",
              "      <td>510.0</td>\n",
              "    </tr>\n",
              "    <tr>\n",
              "      <th>...</th>\n",
              "      <td>...</td>\n",
              "      <td>...</td>\n",
              "      <td>...</td>\n",
              "      <td>...</td>\n",
              "      <td>...</td>\n",
              "      <td>...</td>\n",
              "      <td>...</td>\n",
              "      <td>...</td>\n",
              "      <td>...</td>\n",
              "      <td>...</td>\n",
              "      <td>...</td>\n",
              "      <td>...</td>\n",
              "      <td>...</td>\n",
              "    </tr>\n",
              "    <tr>\n",
              "      <th>3803880</th>\n",
              "      <td>30/12/2022</td>\n",
              "      <td>Vente</td>\n",
              "      <td>3500000,00</td>\n",
              "      <td>19.0</td>\n",
              "      <td>RUE</td>\n",
              "      <td>JEAN DOLENT</td>\n",
              "      <td>75014.0</td>\n",
              "      <td>75</td>\n",
              "      <td>PARIS 14</td>\n",
              "      <td>NaN</td>\n",
              "      <td>327.0</td>\n",
              "      <td>0.0</td>\n",
              "      <td>NaN</td>\n",
              "    </tr>\n",
              "    <tr>\n",
              "      <th>3803881</th>\n",
              "      <td>19/12/2022</td>\n",
              "      <td>Vente</td>\n",
              "      <td>525000,00</td>\n",
              "      <td>3.0</td>\n",
              "      <td>RUE</td>\n",
              "      <td>FREDERIC MAGISSON</td>\n",
              "      <td>75015.0</td>\n",
              "      <td>75</td>\n",
              "      <td>PARIS 15</td>\n",
              "      <td>46,65</td>\n",
              "      <td>0.0</td>\n",
              "      <td>0.0</td>\n",
              "      <td>NaN</td>\n",
              "    </tr>\n",
              "    <tr>\n",
              "      <th>3803882</th>\n",
              "      <td>19/12/2022</td>\n",
              "      <td>Vente</td>\n",
              "      <td>525000,00</td>\n",
              "      <td>3.0</td>\n",
              "      <td>RUE</td>\n",
              "      <td>FREDERIC MAGISSON</td>\n",
              "      <td>75015.0</td>\n",
              "      <td>75</td>\n",
              "      <td>PARIS 15</td>\n",
              "      <td>46,65</td>\n",
              "      <td>40.0</td>\n",
              "      <td>3.0</td>\n",
              "      <td>NaN</td>\n",
              "    </tr>\n",
              "    <tr>\n",
              "      <th>3803883</th>\n",
              "      <td>30/12/2022</td>\n",
              "      <td>Vente</td>\n",
              "      <td>15500,00</td>\n",
              "      <td>69.0</td>\n",
              "      <td>RUE</td>\n",
              "      <td>BARRAULT</td>\n",
              "      <td>75013.0</td>\n",
              "      <td>75</td>\n",
              "      <td>PARIS 13</td>\n",
              "      <td>NaN</td>\n",
              "      <td>0.0</td>\n",
              "      <td>0.0</td>\n",
              "      <td>NaN</td>\n",
              "    </tr>\n",
              "    <tr>\n",
              "      <th>3803884</th>\n",
              "      <td>21/11/2022</td>\n",
              "      <td>Vente</td>\n",
              "      <td>30000,00</td>\n",
              "      <td>48.0</td>\n",
              "      <td>RUE</td>\n",
              "      <td>DE LA ROQUETTE</td>\n",
              "      <td>75011.0</td>\n",
              "      <td>75</td>\n",
              "      <td>PARIS 11</td>\n",
              "      <td>NaN</td>\n",
              "      <td>0.0</td>\n",
              "      <td>0.0</td>\n",
              "      <td>NaN</td>\n",
              "    </tr>\n",
              "  </tbody>\n",
              "</table>\n",
              "<p>3803885 rows × 13 columns</p>\n",
              "</div>\n",
              "      <button class=\"colab-df-convert\" onclick=\"convertToInteractive('df-6fddfe8d-1a74-4362-b95d-c200b4a9aa33')\"\n",
              "              title=\"Convert this dataframe to an interactive table.\"\n",
              "              style=\"display:none;\">\n",
              "        \n",
              "  <svg xmlns=\"http://www.w3.org/2000/svg\" height=\"24px\"viewBox=\"0 0 24 24\"\n",
              "       width=\"24px\">\n",
              "    <path d=\"M0 0h24v24H0V0z\" fill=\"none\"/>\n",
              "    <path d=\"M18.56 5.44l.94 2.06.94-2.06 2.06-.94-2.06-.94-.94-2.06-.94 2.06-2.06.94zm-11 1L8.5 8.5l.94-2.06 2.06-.94-2.06-.94L8.5 2.5l-.94 2.06-2.06.94zm10 10l.94 2.06.94-2.06 2.06-.94-2.06-.94-.94-2.06-.94 2.06-2.06.94z\"/><path d=\"M17.41 7.96l-1.37-1.37c-.4-.4-.92-.59-1.43-.59-.52 0-1.04.2-1.43.59L10.3 9.45l-7.72 7.72c-.78.78-.78 2.05 0 2.83L4 21.41c.39.39.9.59 1.41.59.51 0 1.02-.2 1.41-.59l7.78-7.78 2.81-2.81c.8-.78.8-2.07 0-2.86zM5.41 20L4 18.59l7.72-7.72 1.47 1.35L5.41 20z\"/>\n",
              "  </svg>\n",
              "      </button>\n",
              "      \n",
              "  <style>\n",
              "    .colab-df-container {\n",
              "      display:flex;\n",
              "      flex-wrap:wrap;\n",
              "      gap: 12px;\n",
              "    }\n",
              "\n",
              "    .colab-df-convert {\n",
              "      background-color: #E8F0FE;\n",
              "      border: none;\n",
              "      border-radius: 50%;\n",
              "      cursor: pointer;\n",
              "      display: none;\n",
              "      fill: #1967D2;\n",
              "      height: 32px;\n",
              "      padding: 0 0 0 0;\n",
              "      width: 32px;\n",
              "    }\n",
              "\n",
              "    .colab-df-convert:hover {\n",
              "      background-color: #E2EBFA;\n",
              "      box-shadow: 0px 1px 2px rgba(60, 64, 67, 0.3), 0px 1px 3px 1px rgba(60, 64, 67, 0.15);\n",
              "      fill: #174EA6;\n",
              "    }\n",
              "\n",
              "    [theme=dark] .colab-df-convert {\n",
              "      background-color: #3B4455;\n",
              "      fill: #D2E3FC;\n",
              "    }\n",
              "\n",
              "    [theme=dark] .colab-df-convert:hover {\n",
              "      background-color: #434B5C;\n",
              "      box-shadow: 0px 1px 3px 1px rgba(0, 0, 0, 0.15);\n",
              "      filter: drop-shadow(0px 1px 2px rgba(0, 0, 0, 0.3));\n",
              "      fill: #FFFFFF;\n",
              "    }\n",
              "  </style>\n",
              "\n",
              "      <script>\n",
              "        const buttonEl =\n",
              "          document.querySelector('#df-6fddfe8d-1a74-4362-b95d-c200b4a9aa33 button.colab-df-convert');\n",
              "        buttonEl.style.display =\n",
              "          google.colab.kernel.accessAllowed ? 'block' : 'none';\n",
              "\n",
              "        async function convertToInteractive(key) {\n",
              "          const element = document.querySelector('#df-6fddfe8d-1a74-4362-b95d-c200b4a9aa33');\n",
              "          const dataTable =\n",
              "            await google.colab.kernel.invokeFunction('convertToInteractive',\n",
              "                                                     [key], {});\n",
              "          if (!dataTable) return;\n",
              "\n",
              "          const docLinkHtml = 'Like what you see? Visit the ' +\n",
              "            '<a target=\"_blank\" href=https://colab.research.google.com/notebooks/data_table.ipynb>data table notebook</a>'\n",
              "            + ' to learn more about interactive tables.';\n",
              "          element.innerHTML = '';\n",
              "          dataTable['output_type'] = 'display_data';\n",
              "          await google.colab.output.renderOutput(dataTable, element);\n",
              "          const docLink = document.createElement('div');\n",
              "          docLink.innerHTML = docLinkHtml;\n",
              "          element.appendChild(docLink);\n",
              "        }\n",
              "      </script>\n",
              "    </div>\n",
              "  </div>\n",
              "  "
            ]
          },
          "metadata": {},
          "execution_count": 13
        }
      ]
    },
    {
      "cell_type": "markdown",
      "source": [
        "1. Jointure des fichiers de données "
      ],
      "metadata": {
        "id": "b7cw9adCITgi"
      }
    },
    {
      "cell_type": "markdown",
      "source": [
        "Import des blibliotheques : \n"
      ],
      "metadata": {
        "id": "Y-I9766LIbUf"
      }
    },
    {
      "cell_type": "code",
      "source": [
        "from pyspark.sql import SparkSession\n",
        "from pyspark.sql.functions import col, lit"
      ],
      "metadata": {
        "id": "__CQXOr3IXso"
      },
      "execution_count": 14,
      "outputs": []
    },
    {
      "cell_type": "code",
      "source": [
        "df_2018 = spark.read.format(\"csv\").option(\"header\", \"true\").load(\"valeursfoncieres-2018.txt\", sep=\"|\")\n",
        "df_2019 = spark.read.format(\"csv\").option(\"header\", \"true\").load(\"valeursfoncieres-2019.txt\", sep=\"|\")\n",
        "df_2020 = spark.read.format(\"csv\").option(\"header\", \"true\").load(\"valeursfoncieres-2020.txt\", sep=\"|\")\n",
        "df_2021 = spark.read.format(\"csv\").option(\"header\", \"true\").load(\"valeursfoncieres-2021.txt\", sep=\"|\")\n",
        "df_2022 = spark.read.format(\"csv\").option(\"header\", \"true\").load(\"valeursfoncieres-2022.txt\", sep=\"|\")"
      ],
      "metadata": {
        "id": "MY9tYseYKUzy"
      },
      "execution_count": 15,
      "outputs": []
    },
    {
      "cell_type": "code",
      "source": [
        "print(df_2021)"
      ],
      "metadata": {
        "colab": {
          "base_uri": "https://localhost:8080/"
        },
        "id": "y5NpW8uoKH_L",
        "outputId": "d801094f-5fd9-4bec-eed4-8b060b109586"
      },
      "execution_count": 16,
      "outputs": [
        {
          "output_type": "stream",
          "name": "stdout",
          "text": [
            "+-----------------------+------------------+--------------+--------------+--------------+--------------+--------------+--------------+-------------+---------------+---------------+-------+-----+------------+---------+--------------------+-----------+--------------------+----------------+------------+------------------+-------+-------+---------+-------+-------------------------+--------+--------------------------+--------+--------------------------+--------+--------------------------+--------+--------------------------+--------------+---------------+-----------+-----------------+-------------------+-------------------------+--------------+-----------------------+---------------+\n",
            "|Identifiant de document|Reference document|1 Articles CGI|2 Articles CGI|3 Articles CGI|4 Articles CGI|5 Articles CGI|No disposition|Date mutation|Nature mutation|Valeur fonciere|No voie|B/T/Q|Type de voie|Code voie|                Voie|Code postal|             Commune|Code departement|Code commune|Prefixe de section|Section|No plan|No Volume|1er lot|Surface Carrez du 1er lot|2eme lot|Surface Carrez du 2eme lot|3eme lot|Surface Carrez du 3eme lot|4eme lot|Surface Carrez du 4eme lot|5eme lot|Surface Carrez du 5eme lot|Nombre de lots|Code type local| Type local|Identifiant local|Surface reelle bati|Nombre pieces principales|Nature culture|Nature culture speciale|Surface terrain|\n",
            "+-----------------------+------------------+--------------+--------------+--------------+--------------+--------------+--------------+-------------+---------------+---------------+-------+-----+------------+---------+--------------------+-----------+--------------------+----------------+------------+------------------+-------+-------+---------+-------+-------------------------+--------+--------------------------+--------+--------------------------+--------+--------------------------+--------+--------------------------+--------------+---------------+-----------+-----------------+-------------------+-------------------------+--------------+-----------------------+---------------+\n",
            "|                   null|              null|          null|          null|          null|          null|          null|        000001|   05/01/2021|          Vente|      185000,00|   5080| null|         CHE|     0471|          DE VOGELAS|       1370|       VAL-REVERMONT|              01|         426|               312|     ZC|    122|     null|   null|                     null|    null|                      null|    null|                      null|    null|                      null|    null|                      null|             0|              1|     Maison|             null|                 97|                        5|             S|                   null|           2410|\n",
            "|                   null|              null|          null|          null|          null|          null|          null|        000001|   05/01/2021|          Vente|      185000,00|   5080| null|         CHE|     0471|          DE VOGELAS|       1370|       VAL-REVERMONT|              01|         426|               312|     ZC|    122|     null|   null|                     null|    null|                      null|    null|                      null|    null|                      null|    null|                      null|             0|              3| Dépendance|             null|                  0|                        0|             S|                   null|           2410|\n",
            "|                   null|              null|          null|          null|          null|          null|          null|        000001|   06/01/2021|          Vente|          10,00|   null| null|        null|     B043|           ROUGEMONT|       1290|                 BEY|              01|          42|              null|      A|    204|     null|   null|                     null|    null|                      null|    null|                      null|    null|                      null|    null|                      null|             0|           null|       null|             null|               null|                     null|            BT|                   null|            530|\n",
            "|                   null|              null|          null|          null|          null|          null|          null|        000001|   04/01/2021|          Vente|      204332,00|      7| null|         ALL|     0276|       DES ECUREUILS|       1310|             BUELLAS|              01|          65|              null|      B|   1325|     null|   null|                     null|    null|                      null|    null|                      null|    null|                      null|    null|                      null|             0|              1|     Maison|             null|                 88|                        4|             S|                   null|            866|\n",
            "|                   null|              null|          null|          null|          null|          null|          null|        000001|   06/01/2021|          Vente|      320000,00|     87| null|         RTE|     0140|         DE CERTINES|       1250|           MONTAGNAT|              01|         254|              null|     AZ|     11|     null|   null|                     null|    null|                      null|    null|                      null|    null|                      null|    null|                      null|             0|              1|     Maison|             null|                168|                        5|             S|                   null|           1426|\n",
            "|                   null|              null|          null|          null|          null|          null|          null|        000001|   06/01/2021|          Vente|      320000,00|     87| null|         RTE|     0140|         DE CERTINES|       1250|           MONTAGNAT|              01|         254|              null|     AZ|     11|     null|   null|                     null|    null|                      null|    null|                      null|    null|                      null|    null|                      null|             0|              3| Dépendance|             null|                  0|                        0|             S|                   null|           1426|\n",
            "|                   null|              null|          null|          null|          null|          null|          null|        000002|   04/01/2021|          Vente|          36,30|   null| null|        null|     B077|      COMBET MAILLET|       1250|         CORVEISSIAT|              01|         125|              null|      C|   1691|     null|   null|                     null|    null|                      null|    null|                      null|    null|                      null|    null|                      null|             0|           null|       null|             null|               null|                     null|            BT|                   null|            121|\n",
            "|                   null|              null|          null|          null|          null|          null|          null|        000001|   04/01/2021|          Vente|      176000,00|    210| null|         RUE|     0820|         GEORGE SAND|       1000|SAINT-DENIS-LES-B...|              01|         344|              null|     AC|    181|     null|     29|                     null|    null|                      null|    null|                      null|    null|                      null|    null|                      null|             1|              3| Dépendance|             null|                  0|                        0|          null|                   null|           null|\n",
            "|                   null|              null|          null|          null|          null|          null|          null|        000001|   04/01/2021|          Vente|      176000,00|    210| null|         RUE|     0820|         GEORGE SAND|       1000|SAINT-DENIS-LES-B...|              01|         344|              null|     AC|    181|     null|     39|                     null|    null|                      null|    null|                      null|    null|                      null|    null|                      null|             1|              2|Appartement|             null|                 71|                        3|          null|                   null|           null|\n",
            "|                   null|              null|          null|          null|          null|          null|          null|        000002|   11/01/2021|          Vente|         400,00|   null| null|        null|     B085|       PRE BROUILLET|       1310|             MONTCET|              01|         259|              null|      C|    459|     null|   null|                     null|    null|                      null|    null|                      null|    null|                      null|    null|                      null|             0|           null|       null|             null|               null|                     null|             P|                   null|            460|\n",
            "|                   null|              null|          null|          null|          null|          null|          null|        000001|   07/01/2021|          Vente|        4780,00|   null| null|        null|     B197|             FEUSSAT|       1340|            FOISSIAT|              01|         163|              null|     WA|     71|     null|   null|                     null|    null|                      null|    null|                      null|    null|                      null|    null|                      null|             0|           null|       null|             null|               null|                     null|             T|                   null|           6114|\n",
            "|                   null|              null|          null|          null|          null|          null|          null|        000001|   07/01/2021|          Vente|        4780,00|   null| null|        null|     B197|             FEUSSAT|       1340|            FOISSIAT|              01|         163|              null|     WA|     71|     null|   null|                     null|    null|                      null|    null|                      null|    null|                      null|    null|                      null|             0|           null|       null|             null|               null|                     null|             T|                   null|           6114|\n",
            "|                   null|              null|          null|          null|          null|          null|          null|        000001|   07/01/2021|          Vente|        4780,00|   null| null|        null|     B013|            BERARDAN|       1340|            FOISSIAT|              01|         163|              null|     WA|    155|     null|   null|                     null|    null|                      null|    null|                      null|    null|                      null|    null|                      null|             0|           null|       null|             null|               null|                     null|             P|                   null|           7105|\n",
            "|                   null|              null|          null|          null|          null|          null|          null|        000001|   07/01/2021|          Vente|        4780,00|   null| null|        null|     B129|       LES COMBETTES|       1340|            FOISSIAT|              01|         163|              null|     WB|    277|     null|   null|                     null|    null|                      null|    null|                      null|    null|                      null|    null|                      null|             0|           null|       null|             null|               null|                     null|            BS|                   null|           4570|\n",
            "|                   null|              null|          null|          null|          null|          null|          null|        000002|   04/01/2021|          Vente|      226700,00|    173| null|         CHE|     0164|DU MOULIN DE POLAIZE|       1310|             POLLIAT|              01|         301|              null|     AA|    289|     null|   null|                     null|    null|                      null|    null|                      null|    null|                      null|    null|                      null|             0|              1|     Maison|             null|                 96|                        3|          null|                   null|           null|\n",
            "|                   null|              null|          null|          null|          null|          null|          null|        000001|   08/01/2021|          Vente|      185000,00|     46| null|         RUE|     0161|  DES GRANGES BONNET|       1960|            PERONNAS|              01|         289|              null|     AD|     31|     null|   null|                     null|    null|                      null|    null|                      null|    null|                      null|    null|                      null|             0|              1|     Maison|             null|                100|                        4|             S|                   null|            703|\n",
            "|                   null|              null|          null|          null|          null|          null|          null|        000001|   07/01/2021|          Vente|      114500,00|    179| null|         RUE|     0110|        DE LA MAIRIE|       1340|            FOISSIAT|              01|         163|              null|     AB|    302|     null|   null|                     null|    null|                      null|    null|                      null|    null|                      null|    null|                      null|             0|              1|     Maison|             null|                 85|                        2|             S|                   null|             87|\n",
            "|                   null|              null|          null|          null|          null|          null|          null|        000001|   11/01/2021|          Vente|       84000,00|   null| null|        null|     B005|         SUR LE BIEF|       1250|            JASSERON|              01|         195|              null|      D|   1056|     null|   null|                     null|    null|                      null|    null|                      null|    null|                      null|    null|                      null|             0|           null|       null|             null|               null|                     null|            AB|                   null|            816|\n",
            "|                   null|              null|          null|          null|          null|          null|          null|        000001|   08/01/2021|          Vente|      145000,00|   null| null|        null|     B071|           CHAMANDRE|       1340|            FOISSIAT|              01|         163|              null|     WC|    214|     null|   null|                     null|    null|                      null|    null|                      null|    null|                      null|    null|                      null|             0|           null|       null|             null|               null|                     null|             S|                   null|            431|\n",
            "|                   null|              null|          null|          null|          null|          null|          null|        000001|   08/01/2021|          Vente|      145000,00|      8| null|         IMP|     0255|        DE CHAMANDRE|       1340|            FOISSIAT|              01|         163|              null|     WC|    215|     null|   null|                     null|    null|                      null|    null|                      null|    null|                      null|    null|                      null|             0|              1|     Maison|             null|                 92|                        1|             S|                   null|           2480|\n",
            "+-----------------------+------------------+--------------+--------------+--------------+--------------+--------------+--------------+-------------+---------------+---------------+-------+-----+------------+---------+--------------------+-----------+--------------------+----------------+------------+------------------+-------+-------+---------+-------+-------------------------+--------+--------------------------+--------+--------------------------+--------+--------------------------+--------+--------------------------+--------------+---------------+-----------+-----------------+-------------------+-------------------------+--------------+-----------------------+---------------+\n",
            "only showing top 20 rows\n",
            "\n"
          ]
        }
      ]
    },
    {
      "cell_type": "markdown",
      "source": [
        "Ajout d'une colonne annee dans chaque dataframe"
      ],
      "metadata": {
        "id": "ysjsEqM3LOh9"
      }
    },
    {
      "cell_type": "code",
      "source": [
        "df_2018 = df_2018.withColumn(\"annee\", lit(\"2018\"))\n",
        "df_2019 = df_2019.withColumn(\"annee\", lit(\"2019\"))\n",
        "df_2020 = df_2020.withColumn(\"annee\", lit(\"2020\"))\n",
        "df_2021 = df_2021.withColumn(\"annee\", lit(\"2021\"))\n",
        "df_2022 = df_2022.withColumn(\"annee\", lit(\"2022\"))"
      ],
      "metadata": {
        "id": "hITpxZfoJnHG"
      },
      "execution_count": 17,
      "outputs": []
    },
    {
      "cell_type": "code",
      "source": [
        "print(df_2021)"
      ],
      "metadata": {
        "colab": {
          "base_uri": "https://localhost:8080/"
        },
        "id": "CUCuEoS9hrq6",
        "outputId": "d6e4c681-dc45-4e54-b0b5-ea520d963ca8"
      },
      "execution_count": 18,
      "outputs": [
        {
          "output_type": "stream",
          "name": "stdout",
          "text": [
            "+-----------------------+------------------+--------------+--------------+--------------+--------------+--------------+--------------+-------------+---------------+---------------+-------+-----+------------+---------+--------------------+-----------+--------------------+----------------+------------+------------------+-------+-------+---------+-------+-------------------------+--------+--------------------------+--------+--------------------------+--------+--------------------------+--------+--------------------------+--------------+---------------+-----------+-----------------+-------------------+-------------------------+--------------+-----------------------+---------------+-----+\n",
            "|Identifiant de document|Reference document|1 Articles CGI|2 Articles CGI|3 Articles CGI|4 Articles CGI|5 Articles CGI|No disposition|Date mutation|Nature mutation|Valeur fonciere|No voie|B/T/Q|Type de voie|Code voie|                Voie|Code postal|             Commune|Code departement|Code commune|Prefixe de section|Section|No plan|No Volume|1er lot|Surface Carrez du 1er lot|2eme lot|Surface Carrez du 2eme lot|3eme lot|Surface Carrez du 3eme lot|4eme lot|Surface Carrez du 4eme lot|5eme lot|Surface Carrez du 5eme lot|Nombre de lots|Code type local| Type local|Identifiant local|Surface reelle bati|Nombre pieces principales|Nature culture|Nature culture speciale|Surface terrain|annee|\n",
            "+-----------------------+------------------+--------------+--------------+--------------+--------------+--------------+--------------+-------------+---------------+---------------+-------+-----+------------+---------+--------------------+-----------+--------------------+----------------+------------+------------------+-------+-------+---------+-------+-------------------------+--------+--------------------------+--------+--------------------------+--------+--------------------------+--------+--------------------------+--------------+---------------+-----------+-----------------+-------------------+-------------------------+--------------+-----------------------+---------------+-----+\n",
            "|                   null|              null|          null|          null|          null|          null|          null|        000001|   05/01/2021|          Vente|      185000,00|   5080| null|         CHE|     0471|          DE VOGELAS|       1370|       VAL-REVERMONT|              01|         426|               312|     ZC|    122|     null|   null|                     null|    null|                      null|    null|                      null|    null|                      null|    null|                      null|             0|              1|     Maison|             null|                 97|                        5|             S|                   null|           2410| 2021|\n",
            "|                   null|              null|          null|          null|          null|          null|          null|        000001|   05/01/2021|          Vente|      185000,00|   5080| null|         CHE|     0471|          DE VOGELAS|       1370|       VAL-REVERMONT|              01|         426|               312|     ZC|    122|     null|   null|                     null|    null|                      null|    null|                      null|    null|                      null|    null|                      null|             0|              3| Dépendance|             null|                  0|                        0|             S|                   null|           2410| 2021|\n",
            "|                   null|              null|          null|          null|          null|          null|          null|        000001|   06/01/2021|          Vente|          10,00|   null| null|        null|     B043|           ROUGEMONT|       1290|                 BEY|              01|          42|              null|      A|    204|     null|   null|                     null|    null|                      null|    null|                      null|    null|                      null|    null|                      null|             0|           null|       null|             null|               null|                     null|            BT|                   null|            530| 2021|\n",
            "|                   null|              null|          null|          null|          null|          null|          null|        000001|   04/01/2021|          Vente|      204332,00|      7| null|         ALL|     0276|       DES ECUREUILS|       1310|             BUELLAS|              01|          65|              null|      B|   1325|     null|   null|                     null|    null|                      null|    null|                      null|    null|                      null|    null|                      null|             0|              1|     Maison|             null|                 88|                        4|             S|                   null|            866| 2021|\n",
            "|                   null|              null|          null|          null|          null|          null|          null|        000001|   06/01/2021|          Vente|      320000,00|     87| null|         RTE|     0140|         DE CERTINES|       1250|           MONTAGNAT|              01|         254|              null|     AZ|     11|     null|   null|                     null|    null|                      null|    null|                      null|    null|                      null|    null|                      null|             0|              1|     Maison|             null|                168|                        5|             S|                   null|           1426| 2021|\n",
            "|                   null|              null|          null|          null|          null|          null|          null|        000001|   06/01/2021|          Vente|      320000,00|     87| null|         RTE|     0140|         DE CERTINES|       1250|           MONTAGNAT|              01|         254|              null|     AZ|     11|     null|   null|                     null|    null|                      null|    null|                      null|    null|                      null|    null|                      null|             0|              3| Dépendance|             null|                  0|                        0|             S|                   null|           1426| 2021|\n",
            "|                   null|              null|          null|          null|          null|          null|          null|        000002|   04/01/2021|          Vente|          36,30|   null| null|        null|     B077|      COMBET MAILLET|       1250|         CORVEISSIAT|              01|         125|              null|      C|   1691|     null|   null|                     null|    null|                      null|    null|                      null|    null|                      null|    null|                      null|             0|           null|       null|             null|               null|                     null|            BT|                   null|            121| 2021|\n",
            "|                   null|              null|          null|          null|          null|          null|          null|        000001|   04/01/2021|          Vente|      176000,00|    210| null|         RUE|     0820|         GEORGE SAND|       1000|SAINT-DENIS-LES-B...|              01|         344|              null|     AC|    181|     null|     29|                     null|    null|                      null|    null|                      null|    null|                      null|    null|                      null|             1|              3| Dépendance|             null|                  0|                        0|          null|                   null|           null| 2021|\n",
            "|                   null|              null|          null|          null|          null|          null|          null|        000001|   04/01/2021|          Vente|      176000,00|    210| null|         RUE|     0820|         GEORGE SAND|       1000|SAINT-DENIS-LES-B...|              01|         344|              null|     AC|    181|     null|     39|                     null|    null|                      null|    null|                      null|    null|                      null|    null|                      null|             1|              2|Appartement|             null|                 71|                        3|          null|                   null|           null| 2021|\n",
            "|                   null|              null|          null|          null|          null|          null|          null|        000002|   11/01/2021|          Vente|         400,00|   null| null|        null|     B085|       PRE BROUILLET|       1310|             MONTCET|              01|         259|              null|      C|    459|     null|   null|                     null|    null|                      null|    null|                      null|    null|                      null|    null|                      null|             0|           null|       null|             null|               null|                     null|             P|                   null|            460| 2021|\n",
            "|                   null|              null|          null|          null|          null|          null|          null|        000001|   07/01/2021|          Vente|        4780,00|   null| null|        null|     B197|             FEUSSAT|       1340|            FOISSIAT|              01|         163|              null|     WA|     71|     null|   null|                     null|    null|                      null|    null|                      null|    null|                      null|    null|                      null|             0|           null|       null|             null|               null|                     null|             T|                   null|           6114| 2021|\n",
            "|                   null|              null|          null|          null|          null|          null|          null|        000001|   07/01/2021|          Vente|        4780,00|   null| null|        null|     B197|             FEUSSAT|       1340|            FOISSIAT|              01|         163|              null|     WA|     71|     null|   null|                     null|    null|                      null|    null|                      null|    null|                      null|    null|                      null|             0|           null|       null|             null|               null|                     null|             T|                   null|           6114| 2021|\n",
            "|                   null|              null|          null|          null|          null|          null|          null|        000001|   07/01/2021|          Vente|        4780,00|   null| null|        null|     B013|            BERARDAN|       1340|            FOISSIAT|              01|         163|              null|     WA|    155|     null|   null|                     null|    null|                      null|    null|                      null|    null|                      null|    null|                      null|             0|           null|       null|             null|               null|                     null|             P|                   null|           7105| 2021|\n",
            "|                   null|              null|          null|          null|          null|          null|          null|        000001|   07/01/2021|          Vente|        4780,00|   null| null|        null|     B129|       LES COMBETTES|       1340|            FOISSIAT|              01|         163|              null|     WB|    277|     null|   null|                     null|    null|                      null|    null|                      null|    null|                      null|    null|                      null|             0|           null|       null|             null|               null|                     null|            BS|                   null|           4570| 2021|\n",
            "|                   null|              null|          null|          null|          null|          null|          null|        000002|   04/01/2021|          Vente|      226700,00|    173| null|         CHE|     0164|DU MOULIN DE POLAIZE|       1310|             POLLIAT|              01|         301|              null|     AA|    289|     null|   null|                     null|    null|                      null|    null|                      null|    null|                      null|    null|                      null|             0|              1|     Maison|             null|                 96|                        3|          null|                   null|           null| 2021|\n",
            "|                   null|              null|          null|          null|          null|          null|          null|        000001|   08/01/2021|          Vente|      185000,00|     46| null|         RUE|     0161|  DES GRANGES BONNET|       1960|            PERONNAS|              01|         289|              null|     AD|     31|     null|   null|                     null|    null|                      null|    null|                      null|    null|                      null|    null|                      null|             0|              1|     Maison|             null|                100|                        4|             S|                   null|            703| 2021|\n",
            "|                   null|              null|          null|          null|          null|          null|          null|        000001|   07/01/2021|          Vente|      114500,00|    179| null|         RUE|     0110|        DE LA MAIRIE|       1340|            FOISSIAT|              01|         163|              null|     AB|    302|     null|   null|                     null|    null|                      null|    null|                      null|    null|                      null|    null|                      null|             0|              1|     Maison|             null|                 85|                        2|             S|                   null|             87| 2021|\n",
            "|                   null|              null|          null|          null|          null|          null|          null|        000001|   11/01/2021|          Vente|       84000,00|   null| null|        null|     B005|         SUR LE BIEF|       1250|            JASSERON|              01|         195|              null|      D|   1056|     null|   null|                     null|    null|                      null|    null|                      null|    null|                      null|    null|                      null|             0|           null|       null|             null|               null|                     null|            AB|                   null|            816| 2021|\n",
            "|                   null|              null|          null|          null|          null|          null|          null|        000001|   08/01/2021|          Vente|      145000,00|   null| null|        null|     B071|           CHAMANDRE|       1340|            FOISSIAT|              01|         163|              null|     WC|    214|     null|   null|                     null|    null|                      null|    null|                      null|    null|                      null|    null|                      null|             0|           null|       null|             null|               null|                     null|             S|                   null|            431| 2021|\n",
            "|                   null|              null|          null|          null|          null|          null|          null|        000001|   08/01/2021|          Vente|      145000,00|      8| null|         IMP|     0255|        DE CHAMANDRE|       1340|            FOISSIAT|              01|         163|              null|     WC|    215|     null|   null|                     null|    null|                      null|    null|                      null|    null|                      null|    null|                      null|             0|              1|     Maison|             null|                 92|                        1|             S|                   null|           2480| 2021|\n",
            "+-----------------------+------------------+--------------+--------------+--------------+--------------+--------------+--------------+-------------+---------------+---------------+-------+-----+------------+---------+--------------------+-----------+--------------------+----------------+------------+------------------+-------+-------+---------+-------+-------------------------+--------+--------------------------+--------+--------------------------+--------+--------------------------+--------+--------------------------+--------------+---------------+-----------+-----------------+-------------------+-------------------------+--------------+-----------------------+---------------+-----+\n",
            "only showing top 20 rows\n",
            "\n"
          ]
        }
      ]
    },
    {
      "cell_type": "markdown",
      "source": [
        "Merge des 5 dataframe dans le dataframe merged_df"
      ],
      "metadata": {
        "id": "edM35OdWLYs4"
      }
    },
    {
      "cell_type": "code",
      "source": [
        "merged_df = df_2018.union(df_2019).union(df_2020).union(df_2021).union(df_2022)"
      ],
      "metadata": {
        "id": "k3PWkfYcLWl2"
      },
      "execution_count": 19,
      "outputs": []
    },
    {
      "cell_type": "code",
      "source": [
        "df_2018.unpersist()\n",
        "df_2019.unpersist()\n",
        "df_2020.unpersist()\n",
        "df_2021.unpersist()\n",
        "df_2022.unpersist()"
      ],
      "metadata": {
        "colab": {
          "base_uri": "https://localhost:8080/",
          "height": 1000
        },
        "id": "ZUEZzwCRwTbD",
        "outputId": "809b4eb7-7efd-4ba6-bf79-93b0baa2c900"
      },
      "execution_count": 20,
      "outputs": [
        {
          "output_type": "execute_result",
          "data": {
            "text/plain": [
              "+-----------------------+------------------+--------------+--------------+--------------+--------------+--------------+--------------+-------------+---------------+---------------+-------+-----+------------+---------+-------------------+-----------+--------------------+----------------+------------+------------------+-------+-------+---------+-------+-------------------------+--------+--------------------------+--------+--------------------------+--------+--------------------------+--------+--------------------------+--------------+---------------+--------------------+-----------------+-------------------+-------------------------+--------------+-----------------------+---------------+-----+\n",
              "|Identifiant de document|Reference document|1 Articles CGI|2 Articles CGI|3 Articles CGI|4 Articles CGI|5 Articles CGI|No disposition|Date mutation|Nature mutation|Valeur fonciere|No voie|B/T/Q|Type de voie|Code voie|               Voie|Code postal|             Commune|Code departement|Code commune|Prefixe de section|Section|No plan|No Volume|1er lot|Surface Carrez du 1er lot|2eme lot|Surface Carrez du 2eme lot|3eme lot|Surface Carrez du 3eme lot|4eme lot|Surface Carrez du 4eme lot|5eme lot|Surface Carrez du 5eme lot|Nombre de lots|Code type local|          Type local|Identifiant local|Surface reelle bati|Nombre pieces principales|Nature culture|Nature culture speciale|Surface terrain|annee|\n",
              "+-----------------------+------------------+--------------+--------------+--------------+--------------+--------------+--------------+-------------+---------------+---------------+-------+-----+------------+---------+-------------------+-----------+--------------------+----------------+------------+------------------+-------+-------+---------+-------+-------------------------+--------+--------------------------+--------+--------------------------+--------+--------------------------+--------+--------------------------+--------------+---------------+--------------------+-----------------+-------------------+-------------------------+--------------+-----------------------+---------------+-----+\n",
              "|                   null|              null|          null|          null|          null|          null|          null|        000001|   03/01/2022|          Vente|       55000,00|     13| null|         RUE|     2280|      DE LA LIBERTE|       1000|     BOURG-EN-BRESSE|              01|          53|              null|     AM|    102|     null|      7|                    24,10|    null|                      null|    null|                      null|    null|                      null|    null|                      null|             1|              2|         Appartement|             null|                 24|                        1|          null|                   null|           null| 2022|\n",
              "|                   null|              null|          null|          null|          null|          null|          null|        000001|   03/01/2022|          Vente|      143000,00|   null| null|        null|     B010|       CHAMP COCHET|       1480|           SAVIGNEUX|              01|         398|              null|     ZE|    184|     null|   null|                     null|    null|                      null|    null|                      null|    null|                      null|    null|                      null|             0|           null|                null|             null|               null|                     null|             S|                   null|             84| 2022|\n",
              "|                   null|              null|          null|          null|          null|          null|          null|        000001|   03/01/2022|          Vente|      143000,00|   null| null|        null|     B010|       CHAMP COCHET|       1480|           SAVIGNEUX|              01|         398|              null|     ZE|    185|     null|   null|                     null|    null|                      null|    null|                      null|    null|                      null|    null|                      null|             0|           null|                null|             null|               null|                     null|             S|                   null|             88| 2022|\n",
              "|                   null|              null|          null|          null|          null|          null|          null|        000001|   03/01/2022|          Vente|      143000,00|     98| null|         RTE|     0055|       DE LA DOMBES|       1480|           SAVIGNEUX|              01|         398|              null|     ZE|    187|     null|      1|                   123,23|    null|                      null|    null|                      null|    null|                      null|    null|                      null|             1|              2|         Appartement|             null|                140|                        3|          null|                   null|           null| 2022|\n",
              "|                   null|              null|          null|          null|          null|          null|          null|        000001|   04/01/2022|          Vente|         300,00|   null| null|        null|     B031|        AUX PIERRES|       1480|   MESSIMY SUR SAONE|              01|         243|              null|      A|    643|     null|   null|                     null|    null|                      null|    null|                      null|    null|                      null|    null|                      null|             0|           null|                null|             null|               null|                     null|             T|                   null|            510| 2022|\n",
              "|                   null|              null|          null|          null|          null|          null|          null|        000001|   06/01/2022|          Vente|      255000,00|    282| null|         RTE|     0130|        DE POISATON|       1560|    MANTENAY-MONTLIN|              01|         230|              null|     ZM|    124|     null|   null|                     null|    null|                      null|    null|                      null|    null|                      null|    null|                      null|             0|              1|              Maison|             null|                108|                        5|             S|                   null|            649| 2022|\n",
              "|                   null|              null|          null|          null|          null|          null|          null|        000001|   06/01/2022|          Vente|      255000,00|   null| null|        null|     B047|      LA FREGONIERE|       1560|    MANTENAY-MONTLIN|              01|         230|              null|     ZM|    126|     null|   null|                     null|    null|                      null|    null|                      null|    null|                      null|    null|                      null|             0|           null|                null|             null|               null|                     null|             S|                   null|            360| 2022|\n",
              "|                   null|              null|          null|          null|          null|          null|          null|        000001|   03/01/2022|          Vente|      525000,00|   null| null|          PL|     0300|DE LA CROIX BLANCHE|       1390|SAINT-ANDRE-DE-CORCY|              01|         333|              null|     AN|     23|     null|   null|                     null|    null|                      null|    null|                      null|    null|                      null|    null|                      null|             0|           null|                null|             null|               null|                     null|             S|                   null|             50| 2022|\n",
              "|                   null|              null|          null|          null|          null|          null|          null|        000001|   03/01/2022|          Vente|      525000,00|    217| null|          PL|     0300|DE LA CROIX BLANCHE|       1390|SAINT-ANDRE-DE-CORCY|              01|         333|              null|     AN|    186|     null|   null|                     null|    null|                      null|    null|                      null|    null|                      null|    null|                      null|             0|              4|Local industriel....|             null|                424|                        0|             S|                   null|            628| 2022|\n",
              "|                   null|              null|          null|          null|          null|          null|          null|        000001|   03/01/2022|          Vente|      525000,00|    217| null|          PL|     0300|DE LA CROIX BLANCHE|       1390|SAINT-ANDRE-DE-CORCY|              01|         333|              null|     AN|    186|     null|   null|                     null|    null|                      null|    null|                      null|    null|                      null|    null|                      null|             0|              2|         Appartement|             null|                126|                        4|             S|                   null|            628| 2022|\n",
              "|                   null|              null|          null|          null|          null|          null|          null|        000001|   05/01/2022|          Vente|      254200,00|   null| null|        null|     B036|        MAS ROLLAND|       1700|SAINT-MAURICE-DE-...|              01|         376|              null|     AC|    589|     null|   null|                     null|    null|                      null|    null|                      null|    null|                      null|    null|                      null|             0|           null|                null|             null|               null|                     null|            AB|                   null|            784| 2022|\n",
              "|                   null|              null|          null|          null|          null|          null|          null|        000001|   05/01/2022|          Vente|       64000,00|     12| null|          BD|     0620|            DE BROU|       1000|     BOURG-EN-BRESSE|              01|          53|              null|     BC|    223|     null|      7|                    39,05|    null|                      null|    null|                      null|    null|                      null|    null|                      null|             1|              2|         Appartement|             null|                117|                        2|          null|                   null|           null| 2022|\n",
              "|                   null|              null|          null|          null|          null|          null|          null|        000001|   05/01/2022|          Vente|       64000,00|     12| null|          BD|     0620|            DE BROU|       1000|     BOURG-EN-BRESSE|              01|          53|              null|     BC|    223|     null|      7|                    39,05|    null|                      null|    null|                      null|    null|                      null|    null|                      null|             1|              3|          Dépendance|             null|                  0|                        0|          null|                   null|           null| 2022|\n",
              "|                   null|              null|          null|          null|          null|          null|          null|        000001|   03/01/2022|          Vente|      140000,00|      6| null|         RUE|     0397|       DE BEAUGENCY|       1000|     BOURG-EN-BRESSE|              01|          53|              null|     BZ|    175|     null|   null|                     null|    null|                      null|    null|                      null|    null|                      null|    null|                      null|             0|              1|              Maison|             null|                100|                        4|             S|                   null|            796| 2022|\n",
              "|                   null|              null|          null|          null|          null|          null|          null|        000001|   03/01/2022|          Vente|      140000,00|   null| null|         RUE|     0397|       DE BEAUGENCY|       1000|     BOURG-EN-BRESSE|              01|          53|              null|     BZ|    223|     null|   null|                     null|    null|                      null|    null|                      null|    null|                      null|    null|                      null|             0|           null|                null|             null|               null|                     null|            AG|                    IMM|            260| 2022|\n",
              "|                   null|              null|          null|          null|          null|          null|          null|        000001|   03/01/2022|          Vente|      140000,00|   null| null|         RUE|     0397|       DE BEAUGENCY|       1000|     BOURG-EN-BRESSE|              01|          53|              null|     BZ|    224|     null|   null|                     null|    null|                      null|    null|                      null|    null|                      null|    null|                      null|             0|           null|                null|             null|               null|                     null|            AG|                    IMM|            590| 2022|\n",
              "|                   null|              null|          null|          null|          null|          null|          null|        000001|   03/01/2022|          Vente|      140000,00|   null| null|         RUE|     0397|       DE BEAUGENCY|       1000|     BOURG-EN-BRESSE|              01|          53|              null|     BZ|    241|     null|   null|                     null|    null|                      null|    null|                      null|    null|                      null|    null|                      null|             0|           null|                null|             null|               null|                     null|            AG|                    IMM|            262| 2022|\n",
              "|                   null|              null|          null|          null|          null|          null|          null|        000001|   04/01/2022|          Vente|      134000,00|     13| null|         RUE|     1070|          DE CUIRON|       1000|     BOURG-EN-BRESSE|              01|          53|              null|     CS|    321|     null|      4|                    70,02|    null|                      null|    null|                      null|    null|                      null|    null|                      null|             1|              3|          Dépendance|             null|                  0|                        0|          null|                   null|           null| 2022|\n",
              "|                   null|              null|          null|          null|          null|          null|          null|        000001|   04/01/2022|          Vente|      134000,00|     13| null|         RUE|     1070|          DE CUIRON|       1000|     BOURG-EN-BRESSE|              01|          53|              null|     CS|    321|     null|      4|                    70,02|    null|                      null|    null|                      null|    null|                      null|    null|                      null|             1|              2|         Appartement|             null|                 46|                        1|          null|                   null|           null| 2022|\n",
              "|                   null|              null|          null|          null|          null|          null|          null|        000001|   04/01/2022|          Vente|      134000,00|     13| null|         RUE|     1070|          DE CUIRON|       1000|     BOURG-EN-BRESSE|              01|          53|              null|     CS|    321|     null|      4|                    70,02|    null|                      null|    null|                      null|    null|                      null|    null|                      null|             1|              3|          Dépendance|             null|                  0|                        0|          null|                   null|           null| 2022|\n",
              "+-----------------------+------------------+--------------+--------------+--------------+--------------+--------------+--------------+-------------+---------------+---------------+-------+-----+------------+---------+-------------------+-----------+--------------------+----------------+------------+------------------+-------+-------+---------+-------+-------------------------+--------+--------------------------+--------+--------------------------+--------+--------------------------+--------+--------------------------+--------------+---------------+--------------------+-----------------+-------------------+-------------------------+--------------+-----------------------+---------------+-----+\n",
              "only showing top 20 rows"
            ],
            "text/html": [
              "<table border='1'>\n",
              "<tr><th>Identifiant de document</th><th>Reference document</th><th>1 Articles CGI</th><th>2 Articles CGI</th><th>3 Articles CGI</th><th>4 Articles CGI</th><th>5 Articles CGI</th><th>No disposition</th><th>Date mutation</th><th>Nature mutation</th><th>Valeur fonciere</th><th>No voie</th><th>B/T/Q</th><th>Type de voie</th><th>Code voie</th><th>Voie</th><th>Code postal</th><th>Commune</th><th>Code departement</th><th>Code commune</th><th>Prefixe de section</th><th>Section</th><th>No plan</th><th>No Volume</th><th>1er lot</th><th>Surface Carrez du 1er lot</th><th>2eme lot</th><th>Surface Carrez du 2eme lot</th><th>3eme lot</th><th>Surface Carrez du 3eme lot</th><th>4eme lot</th><th>Surface Carrez du 4eme lot</th><th>5eme lot</th><th>Surface Carrez du 5eme lot</th><th>Nombre de lots</th><th>Code type local</th><th>Type local</th><th>Identifiant local</th><th>Surface reelle bati</th><th>Nombre pieces principales</th><th>Nature culture</th><th>Nature culture speciale</th><th>Surface terrain</th><th>annee</th></tr>\n",
              "<tr><td>null</td><td>null</td><td>null</td><td>null</td><td>null</td><td>null</td><td>null</td><td>000001</td><td>03/01/2022</td><td>Vente</td><td>55000,00</td><td>13</td><td>null</td><td>RUE</td><td>2280</td><td>DE LA LIBERTE</td><td>1000</td><td>BOURG-EN-BRESSE</td><td>01</td><td>53</td><td>null</td><td>AM</td><td>102</td><td>null</td><td>7</td><td>24,10</td><td>null</td><td>null</td><td>null</td><td>null</td><td>null</td><td>null</td><td>null</td><td>null</td><td>1</td><td>2</td><td>Appartement</td><td>null</td><td>24</td><td>1</td><td>null</td><td>null</td><td>null</td><td>2022</td></tr>\n",
              "<tr><td>null</td><td>null</td><td>null</td><td>null</td><td>null</td><td>null</td><td>null</td><td>000001</td><td>03/01/2022</td><td>Vente</td><td>143000,00</td><td>null</td><td>null</td><td>null</td><td>B010</td><td>CHAMP COCHET</td><td>1480</td><td>SAVIGNEUX</td><td>01</td><td>398</td><td>null</td><td>ZE</td><td>184</td><td>null</td><td>null</td><td>null</td><td>null</td><td>null</td><td>null</td><td>null</td><td>null</td><td>null</td><td>null</td><td>null</td><td>0</td><td>null</td><td>null</td><td>null</td><td>null</td><td>null</td><td>S</td><td>null</td><td>84</td><td>2022</td></tr>\n",
              "<tr><td>null</td><td>null</td><td>null</td><td>null</td><td>null</td><td>null</td><td>null</td><td>000001</td><td>03/01/2022</td><td>Vente</td><td>143000,00</td><td>null</td><td>null</td><td>null</td><td>B010</td><td>CHAMP COCHET</td><td>1480</td><td>SAVIGNEUX</td><td>01</td><td>398</td><td>null</td><td>ZE</td><td>185</td><td>null</td><td>null</td><td>null</td><td>null</td><td>null</td><td>null</td><td>null</td><td>null</td><td>null</td><td>null</td><td>null</td><td>0</td><td>null</td><td>null</td><td>null</td><td>null</td><td>null</td><td>S</td><td>null</td><td>88</td><td>2022</td></tr>\n",
              "<tr><td>null</td><td>null</td><td>null</td><td>null</td><td>null</td><td>null</td><td>null</td><td>000001</td><td>03/01/2022</td><td>Vente</td><td>143000,00</td><td>98</td><td>null</td><td>RTE</td><td>0055</td><td>DE LA DOMBES</td><td>1480</td><td>SAVIGNEUX</td><td>01</td><td>398</td><td>null</td><td>ZE</td><td>187</td><td>null</td><td>1</td><td>123,23</td><td>null</td><td>null</td><td>null</td><td>null</td><td>null</td><td>null</td><td>null</td><td>null</td><td>1</td><td>2</td><td>Appartement</td><td>null</td><td>140</td><td>3</td><td>null</td><td>null</td><td>null</td><td>2022</td></tr>\n",
              "<tr><td>null</td><td>null</td><td>null</td><td>null</td><td>null</td><td>null</td><td>null</td><td>000001</td><td>04/01/2022</td><td>Vente</td><td>300,00</td><td>null</td><td>null</td><td>null</td><td>B031</td><td>AUX PIERRES</td><td>1480</td><td>MESSIMY SUR SAONE</td><td>01</td><td>243</td><td>null</td><td>A</td><td>643</td><td>null</td><td>null</td><td>null</td><td>null</td><td>null</td><td>null</td><td>null</td><td>null</td><td>null</td><td>null</td><td>null</td><td>0</td><td>null</td><td>null</td><td>null</td><td>null</td><td>null</td><td>T</td><td>null</td><td>510</td><td>2022</td></tr>\n",
              "<tr><td>null</td><td>null</td><td>null</td><td>null</td><td>null</td><td>null</td><td>null</td><td>000001</td><td>06/01/2022</td><td>Vente</td><td>255000,00</td><td>282</td><td>null</td><td>RTE</td><td>0130</td><td>DE POISATON</td><td>1560</td><td>MANTENAY-MONTLIN</td><td>01</td><td>230</td><td>null</td><td>ZM</td><td>124</td><td>null</td><td>null</td><td>null</td><td>null</td><td>null</td><td>null</td><td>null</td><td>null</td><td>null</td><td>null</td><td>null</td><td>0</td><td>1</td><td>Maison</td><td>null</td><td>108</td><td>5</td><td>S</td><td>null</td><td>649</td><td>2022</td></tr>\n",
              "<tr><td>null</td><td>null</td><td>null</td><td>null</td><td>null</td><td>null</td><td>null</td><td>000001</td><td>06/01/2022</td><td>Vente</td><td>255000,00</td><td>null</td><td>null</td><td>null</td><td>B047</td><td>LA FREGONIERE</td><td>1560</td><td>MANTENAY-MONTLIN</td><td>01</td><td>230</td><td>null</td><td>ZM</td><td>126</td><td>null</td><td>null</td><td>null</td><td>null</td><td>null</td><td>null</td><td>null</td><td>null</td><td>null</td><td>null</td><td>null</td><td>0</td><td>null</td><td>null</td><td>null</td><td>null</td><td>null</td><td>S</td><td>null</td><td>360</td><td>2022</td></tr>\n",
              "<tr><td>null</td><td>null</td><td>null</td><td>null</td><td>null</td><td>null</td><td>null</td><td>000001</td><td>03/01/2022</td><td>Vente</td><td>525000,00</td><td>null</td><td>null</td><td>PL</td><td>0300</td><td>DE LA CROIX BLANCHE</td><td>1390</td><td>SAINT-ANDRE-DE-CORCY</td><td>01</td><td>333</td><td>null</td><td>AN</td><td>23</td><td>null</td><td>null</td><td>null</td><td>null</td><td>null</td><td>null</td><td>null</td><td>null</td><td>null</td><td>null</td><td>null</td><td>0</td><td>null</td><td>null</td><td>null</td><td>null</td><td>null</td><td>S</td><td>null</td><td>50</td><td>2022</td></tr>\n",
              "<tr><td>null</td><td>null</td><td>null</td><td>null</td><td>null</td><td>null</td><td>null</td><td>000001</td><td>03/01/2022</td><td>Vente</td><td>525000,00</td><td>217</td><td>null</td><td>PL</td><td>0300</td><td>DE LA CROIX BLANCHE</td><td>1390</td><td>SAINT-ANDRE-DE-CORCY</td><td>01</td><td>333</td><td>null</td><td>AN</td><td>186</td><td>null</td><td>null</td><td>null</td><td>null</td><td>null</td><td>null</td><td>null</td><td>null</td><td>null</td><td>null</td><td>null</td><td>0</td><td>4</td><td>Local industriel....</td><td>null</td><td>424</td><td>0</td><td>S</td><td>null</td><td>628</td><td>2022</td></tr>\n",
              "<tr><td>null</td><td>null</td><td>null</td><td>null</td><td>null</td><td>null</td><td>null</td><td>000001</td><td>03/01/2022</td><td>Vente</td><td>525000,00</td><td>217</td><td>null</td><td>PL</td><td>0300</td><td>DE LA CROIX BLANCHE</td><td>1390</td><td>SAINT-ANDRE-DE-CORCY</td><td>01</td><td>333</td><td>null</td><td>AN</td><td>186</td><td>null</td><td>null</td><td>null</td><td>null</td><td>null</td><td>null</td><td>null</td><td>null</td><td>null</td><td>null</td><td>null</td><td>0</td><td>2</td><td>Appartement</td><td>null</td><td>126</td><td>4</td><td>S</td><td>null</td><td>628</td><td>2022</td></tr>\n",
              "<tr><td>null</td><td>null</td><td>null</td><td>null</td><td>null</td><td>null</td><td>null</td><td>000001</td><td>05/01/2022</td><td>Vente</td><td>254200,00</td><td>null</td><td>null</td><td>null</td><td>B036</td><td>MAS ROLLAND</td><td>1700</td><td>SAINT-MAURICE-DE-...</td><td>01</td><td>376</td><td>null</td><td>AC</td><td>589</td><td>null</td><td>null</td><td>null</td><td>null</td><td>null</td><td>null</td><td>null</td><td>null</td><td>null</td><td>null</td><td>null</td><td>0</td><td>null</td><td>null</td><td>null</td><td>null</td><td>null</td><td>AB</td><td>null</td><td>784</td><td>2022</td></tr>\n",
              "<tr><td>null</td><td>null</td><td>null</td><td>null</td><td>null</td><td>null</td><td>null</td><td>000001</td><td>05/01/2022</td><td>Vente</td><td>64000,00</td><td>12</td><td>null</td><td>BD</td><td>0620</td><td>DE BROU</td><td>1000</td><td>BOURG-EN-BRESSE</td><td>01</td><td>53</td><td>null</td><td>BC</td><td>223</td><td>null</td><td>7</td><td>39,05</td><td>null</td><td>null</td><td>null</td><td>null</td><td>null</td><td>null</td><td>null</td><td>null</td><td>1</td><td>2</td><td>Appartement</td><td>null</td><td>117</td><td>2</td><td>null</td><td>null</td><td>null</td><td>2022</td></tr>\n",
              "<tr><td>null</td><td>null</td><td>null</td><td>null</td><td>null</td><td>null</td><td>null</td><td>000001</td><td>05/01/2022</td><td>Vente</td><td>64000,00</td><td>12</td><td>null</td><td>BD</td><td>0620</td><td>DE BROU</td><td>1000</td><td>BOURG-EN-BRESSE</td><td>01</td><td>53</td><td>null</td><td>BC</td><td>223</td><td>null</td><td>7</td><td>39,05</td><td>null</td><td>null</td><td>null</td><td>null</td><td>null</td><td>null</td><td>null</td><td>null</td><td>1</td><td>3</td><td>Dépendance</td><td>null</td><td>0</td><td>0</td><td>null</td><td>null</td><td>null</td><td>2022</td></tr>\n",
              "<tr><td>null</td><td>null</td><td>null</td><td>null</td><td>null</td><td>null</td><td>null</td><td>000001</td><td>03/01/2022</td><td>Vente</td><td>140000,00</td><td>6</td><td>null</td><td>RUE</td><td>0397</td><td>DE BEAUGENCY</td><td>1000</td><td>BOURG-EN-BRESSE</td><td>01</td><td>53</td><td>null</td><td>BZ</td><td>175</td><td>null</td><td>null</td><td>null</td><td>null</td><td>null</td><td>null</td><td>null</td><td>null</td><td>null</td><td>null</td><td>null</td><td>0</td><td>1</td><td>Maison</td><td>null</td><td>100</td><td>4</td><td>S</td><td>null</td><td>796</td><td>2022</td></tr>\n",
              "<tr><td>null</td><td>null</td><td>null</td><td>null</td><td>null</td><td>null</td><td>null</td><td>000001</td><td>03/01/2022</td><td>Vente</td><td>140000,00</td><td>null</td><td>null</td><td>RUE</td><td>0397</td><td>DE BEAUGENCY</td><td>1000</td><td>BOURG-EN-BRESSE</td><td>01</td><td>53</td><td>null</td><td>BZ</td><td>223</td><td>null</td><td>null</td><td>null</td><td>null</td><td>null</td><td>null</td><td>null</td><td>null</td><td>null</td><td>null</td><td>null</td><td>0</td><td>null</td><td>null</td><td>null</td><td>null</td><td>null</td><td>AG</td><td>IMM</td><td>260</td><td>2022</td></tr>\n",
              "<tr><td>null</td><td>null</td><td>null</td><td>null</td><td>null</td><td>null</td><td>null</td><td>000001</td><td>03/01/2022</td><td>Vente</td><td>140000,00</td><td>null</td><td>null</td><td>RUE</td><td>0397</td><td>DE BEAUGENCY</td><td>1000</td><td>BOURG-EN-BRESSE</td><td>01</td><td>53</td><td>null</td><td>BZ</td><td>224</td><td>null</td><td>null</td><td>null</td><td>null</td><td>null</td><td>null</td><td>null</td><td>null</td><td>null</td><td>null</td><td>null</td><td>0</td><td>null</td><td>null</td><td>null</td><td>null</td><td>null</td><td>AG</td><td>IMM</td><td>590</td><td>2022</td></tr>\n",
              "<tr><td>null</td><td>null</td><td>null</td><td>null</td><td>null</td><td>null</td><td>null</td><td>000001</td><td>03/01/2022</td><td>Vente</td><td>140000,00</td><td>null</td><td>null</td><td>RUE</td><td>0397</td><td>DE BEAUGENCY</td><td>1000</td><td>BOURG-EN-BRESSE</td><td>01</td><td>53</td><td>null</td><td>BZ</td><td>241</td><td>null</td><td>null</td><td>null</td><td>null</td><td>null</td><td>null</td><td>null</td><td>null</td><td>null</td><td>null</td><td>null</td><td>0</td><td>null</td><td>null</td><td>null</td><td>null</td><td>null</td><td>AG</td><td>IMM</td><td>262</td><td>2022</td></tr>\n",
              "<tr><td>null</td><td>null</td><td>null</td><td>null</td><td>null</td><td>null</td><td>null</td><td>000001</td><td>04/01/2022</td><td>Vente</td><td>134000,00</td><td>13</td><td>null</td><td>RUE</td><td>1070</td><td>DE CUIRON</td><td>1000</td><td>BOURG-EN-BRESSE</td><td>01</td><td>53</td><td>null</td><td>CS</td><td>321</td><td>null</td><td>4</td><td>70,02</td><td>null</td><td>null</td><td>null</td><td>null</td><td>null</td><td>null</td><td>null</td><td>null</td><td>1</td><td>3</td><td>Dépendance</td><td>null</td><td>0</td><td>0</td><td>null</td><td>null</td><td>null</td><td>2022</td></tr>\n",
              "<tr><td>null</td><td>null</td><td>null</td><td>null</td><td>null</td><td>null</td><td>null</td><td>000001</td><td>04/01/2022</td><td>Vente</td><td>134000,00</td><td>13</td><td>null</td><td>RUE</td><td>1070</td><td>DE CUIRON</td><td>1000</td><td>BOURG-EN-BRESSE</td><td>01</td><td>53</td><td>null</td><td>CS</td><td>321</td><td>null</td><td>4</td><td>70,02</td><td>null</td><td>null</td><td>null</td><td>null</td><td>null</td><td>null</td><td>null</td><td>null</td><td>1</td><td>2</td><td>Appartement</td><td>null</td><td>46</td><td>1</td><td>null</td><td>null</td><td>null</td><td>2022</td></tr>\n",
              "<tr><td>null</td><td>null</td><td>null</td><td>null</td><td>null</td><td>null</td><td>null</td><td>000001</td><td>04/01/2022</td><td>Vente</td><td>134000,00</td><td>13</td><td>null</td><td>RUE</td><td>1070</td><td>DE CUIRON</td><td>1000</td><td>BOURG-EN-BRESSE</td><td>01</td><td>53</td><td>null</td><td>CS</td><td>321</td><td>null</td><td>4</td><td>70,02</td><td>null</td><td>null</td><td>null</td><td>null</td><td>null</td><td>null</td><td>null</td><td>null</td><td>1</td><td>3</td><td>Dépendance</td><td>null</td><td>0</td><td>0</td><td>null</td><td>null</td><td>null</td><td>2022</td></tr>\n",
              "</table>\n",
              "only showing top 20 rows\n"
            ]
          },
          "metadata": {},
          "execution_count": 20
        }
      ]
    },
    {
      "cell_type": "code",
      "source": [
        "merged_df = merged_df.withColumn(\"annee\", col(\"annee\").cast(\"integer\"))"
      ],
      "metadata": {
        "id": "csIhENVHwGSx"
      },
      "execution_count": 21,
      "outputs": []
    },
    {
      "cell_type": "code",
      "source": [
        "merged_df.count()"
      ],
      "metadata": {
        "colab": {
          "base_uri": "https://localhost:8080/"
        },
        "id": "dbSL5OmXLphf",
        "outputId": "559eac78-00b8-472a-d93f-2382e56b4840"
      },
      "execution_count": 22,
      "outputs": [
        {
          "output_type": "execute_result",
          "data": {
            "text/plain": [
              "18928987"
            ]
          },
          "metadata": {},
          "execution_count": 22
        }
      ]
    },
    {
      "cell_type": "markdown",
      "source": [
        "On selectionne les colonnes utiles à l'analyse"
      ],
      "metadata": {
        "id": "ZWfvrO0AjiVO"
      }
    },
    {
      "cell_type": "code",
      "source": [
        "merged_df = merged_df.select(\"Date mutation\", \"Nature mutation\", \"Valeur fonciere\", \"No voie\", \"Type de voie\", \"Voie\", \"Code postal\",\"Commune\",\"Code departement\", \"Surface Carrez du 1er lot\", \"Surface reelle bati\", \"Nombre pieces principales\", \"Surface terrain\", \"annee\")\n"
      ],
      "metadata": {
        "id": "w7EkRomxjgxs"
      },
      "execution_count": 23,
      "outputs": []
    },
    {
      "cell_type": "code",
      "source": [
        "merged_df.dtypes"
      ],
      "metadata": {
        "colab": {
          "base_uri": "https://localhost:8080/"
        },
        "id": "Ej2HTiApxFCJ",
        "outputId": "22b54de9-fbb4-47ea-9a05-7bb0e1845b8f"
      },
      "execution_count": 24,
      "outputs": [
        {
          "output_type": "execute_result",
          "data": {
            "text/plain": [
              "[('Date mutation', 'string'),\n",
              " ('Nature mutation', 'string'),\n",
              " ('Valeur fonciere', 'string'),\n",
              " ('No voie', 'string'),\n",
              " ('Type de voie', 'string'),\n",
              " ('Voie', 'string'),\n",
              " ('Code postal', 'string'),\n",
              " ('Commune', 'string'),\n",
              " ('Code departement', 'string'),\n",
              " ('Surface Carrez du 1er lot', 'string'),\n",
              " ('Surface reelle bati', 'string'),\n",
              " ('Nombre pieces principales', 'string'),\n",
              " ('Surface terrain', 'string'),\n",
              " ('annee', 'int')]"
            ]
          },
          "metadata": {},
          "execution_count": 24
        }
      ]
    },
    {
      "cell_type": "code",
      "source": [
        "merged_df.show()\n"
      ],
      "metadata": {
        "colab": {
          "base_uri": "https://localhost:8080/"
        },
        "id": "MmXPfpuzjp9n",
        "outputId": "e7824e1a-8758-409a-bf2e-00eecbcc27d5"
      },
      "execution_count": 25,
      "outputs": [
        {
          "output_type": "stream",
          "name": "stdout",
          "text": [
            "+-------------+---------------+---------------+-------+------------+--------------------+-----------+--------------------+----------------+-------------------------+-------------------+-------------------------+---------------+-----+\n",
            "|Date mutation|Nature mutation|Valeur fonciere|No voie|Type de voie|                Voie|Code postal|             Commune|Code departement|Surface Carrez du 1er lot|Surface reelle bati|Nombre pieces principales|Surface terrain|annee|\n",
            "+-------------+---------------+---------------+-------+------------+--------------------+-----------+--------------------+----------------+-------------------------+-------------------+-------------------------+---------------+-----+\n",
            "|   03/01/2018|          Vente|      109000,00|     13|         RUE|         GEN LOGEROT|       1000|     BOURG-EN-BRESSE|              01|                     null|                 73|                        4|           null| 2018|\n",
            "|   03/01/2018|          Vente|      109000,00|     13|         RUE|         GEN LOGEROT|       1000|     BOURG-EN-BRESSE|              01|                     null|                  0|                        0|           null| 2018|\n",
            "|   04/01/2018|          Vente|      239300,00|      4|         RUE|      DE LA BARMETTE|       1250|    NIVIGNE ET SURAN|              01|                     null|                163|                        4|            949| 2018|\n",
            "|   04/01/2018|          Vente|      239300,00|      4|         RUE|      DE LA BARMETTE|       1250|    NIVIGNE ET SURAN|              01|                     null|                163|                        4|            420| 2018|\n",
            "|   04/01/2018|          Vente|      239300,00|      4|         RUE|      DE LA BARMETTE|       1250|    NIVIGNE ET SURAN|              01|                     null|                 51|                        2|            420| 2018|\n",
            "|   04/01/2018|          Vente|      239300,00|      4|         RUE|      DE LA BARMETTE|       1250|    NIVIGNE ET SURAN|              01|                     null|                 51|                        2|            949| 2018|\n",
            "|   04/01/2018|          Vente|       90000,00|   null|        null|         LE DRUILLET|       1380|SAINT-CYR-SUR-MEN...|              01|                     null|               null|                     null|            278| 2018|\n",
            "|   04/01/2018|          Vente|       90000,00|   5050|        null|         LE DRUILLET|       1380|SAINT-CYR-SUR-MEN...|              01|                     null|                150|                        3|            347| 2018|\n",
            "|   04/01/2018|          Vente|       90000,00|   null|        null|         LE DRUILLET|       1380|SAINT-CYR-SUR-MEN...|              01|                     null|               null|                     null|             23| 2018|\n",
            "|   10/01/2018|          Vente|        3150,00|   null|        null|          PONT D AIN|       1160|          PONT-D AIN|              01|                     null|               null|                     null|            126| 2018|\n",
            "|   12/01/2018|          Vente|        2100,00|   null|        null| SOUS LE BOIS GIROUD|       1250|            JASSERON|              01|                     null|               null|                     null|            197| 2018|\n",
            "|   04/01/2018|          Vente|       67000,00|     12|         ALL|DE LA PETITE REYS...|       1000|     BOURG-EN-BRESSE|              01|                     null|                 45|                        1|           null| 2018|\n",
            "|   11/01/2018|          Vente|       76200,00|      5|         RUE|             MOLIERE|       1000|     BOURG-EN-BRESSE|              01|                     null|                 68|                        3|           null| 2018|\n",
            "|   17/01/2018|          Vente|        1000,00|   null|        null|           VACAGNOLE|       1340|            ATTIGNAT|              01|                     null|               null|                     null|           5093| 2018|\n",
            "|   18/01/2018|          Vente|       65000,00|     50|         RUE|           DOC NODET|       1000|     BOURG-EN-BRESSE|              01|                     null|                  0|                        0|           null| 2018|\n",
            "|   18/01/2018|          Vente|       65000,00|     50|         RUE|           DOC NODET|       1000|     BOURG-EN-BRESSE|              01|                     null|                 69|                        3|           null| 2018|\n",
            "|   10/01/2018|          Vente|       47600,00|     30|          AV|         JEAN JAURES|       1000|     BOURG-EN-BRESSE|              01|                     null|                  0|                        0|           null| 2018|\n",
            "|   10/01/2018|          Vente|       47600,00|     30|          AV|         JEAN JAURES|       1000|     BOURG-EN-BRESSE|              01|                    44,12|                 45|                        2|           null| 2018|\n",
            "|   08/01/2018|          Vente|       47700,00|   null|        null|             LE LAIT|       1240|                LENT|              01|                     null|               null|                     null|         157020| 2018|\n",
            "|   08/01/2018|          Vente|       47700,00|   null|        null|             LE LAIT|       1240|                LENT|              01|                     null|               null|                     null|           2770| 2018|\n",
            "+-------------+---------------+---------------+-------+------------+--------------------+-----------+--------------------+----------------+-------------------------+-------------------+-------------------------+---------------+-----+\n",
            "only showing top 20 rows\n",
            "\n"
          ]
        }
      ]
    },
    {
      "cell_type": "code",
      "source": [
        "merged_df.filter(col(\"Valeur fonciere\").isNull())"
      ],
      "metadata": {
        "colab": {
          "base_uri": "https://localhost:8080/",
          "height": 720
        },
        "id": "yEDsmCSbusEI",
        "outputId": "b27591b6-739d-473e-d61a-b6369087f6ea"
      },
      "execution_count": 26,
      "outputs": [
        {
          "output_type": "execute_result",
          "data": {
            "text/plain": [
              "+-------------+---------------+---------------+-------+------------+-------------+-----------+-------------------+----------------+-------------------------+-------------------+-------------------------+---------------+-----+\n",
              "|Date mutation|Nature mutation|Valeur fonciere|No voie|Type de voie|         Voie|Code postal|            Commune|Code departement|Surface Carrez du 1er lot|Surface reelle bati|Nombre pieces principales|Surface terrain|annee|\n",
              "+-------------+---------------+---------------+-------+------------+-------------+-----------+-------------------+----------------+-------------------------+-------------------+-------------------------+---------------+-----+\n",
              "|   15/02/2018|          Vente|           null|   null|        null|    LES PLANS|       1250|          CEYZERIAT|              01|                     null|               null|                     null|           8494| 2018|\n",
              "|   15/02/2018|          Vente|           null|   null|        null|    LES PLANS|       1250|          CEYZERIAT|              01|                     null|               null|                     null|           1197| 2018|\n",
              "|   15/02/2018|          Vente|           null|   null|        null|    LES PLANS|       1250|          CEYZERIAT|              01|                     null|               null|                     null|          20309| 2018|\n",
              "|   15/02/2018|          Vente|           null|   null|        null|    LES PLANS|       1250|          CEYZERIAT|              01|                     null|               null|                     null|           1435| 2018|\n",
              "|   15/02/2018|          Vente|           null|   null|        null|    LES PLANS|       1250|          CEYZERIAT|              01|                     null|               null|                     null|           1297| 2018|\n",
              "|   15/02/2018|          Vente|           null|   null|        null|    LES PLANS|       1250|          CEYZERIAT|              01|                     null|               null|                     null|           5176| 2018|\n",
              "|   15/02/2018|          Vente|           null|   null|        null|    LES PLANS|       1250|          CEYZERIAT|              01|                     null|               null|                     null|            208| 2018|\n",
              "|   15/02/2018|          Vente|           null|   null|        null|    LES PLANS|       1250|          CEYZERIAT|              01|                     null|               null|                     null|           1522| 2018|\n",
              "|   15/02/2018|          Vente|           null|   null|        null|    LES PLANS|       1250|          CEYZERIAT|              01|                     null|               null|                     null|           1423| 2018|\n",
              "|   15/02/2018|          Vente|           null|   null|        null|    LES PLANS|       1250|          CEYZERIAT|              01|                     null|               null|                     null|           2364| 2018|\n",
              "|   15/02/2018|          Vente|           null|   null|        null|    LES PLANS|       1250|          CEYZERIAT|              01|                     null|               null|                     null|           3379| 2018|\n",
              "|   28/02/2018|          Vente|           null|   null|        null|   CHEZ BOTTE|       1240|DOMPIERRE-SUR-VEYLE|              01|                     null|               null|                     null|           6100| 2018|\n",
              "|   28/02/2018|          Vente|           null|   null|        null|   CHEZ BOTTE|       1240|DOMPIERRE-SUR-VEYLE|              01|                     null|               null|                     null|          71215| 2018|\n",
              "|   28/02/2018|          Vente|           null|   null|        null|   CHEZ BOTTE|       1240|DOMPIERRE-SUR-VEYLE|              01|                     null|               null|                     null|          20120| 2018|\n",
              "|   28/02/2018|          Vente|           null|   null|        null|DOMAINE GAYON|       1240|DOMPIERRE-SUR-VEYLE|              01|                     null|               null|                     null|          68865| 2018|\n",
              "|   28/02/2018|          Vente|           null|   null|        null|DOMAINE GAYON|       1240|DOMPIERRE-SUR-VEYLE|              01|                     null|               null|                     null|           7125| 2018|\n",
              "|   28/02/2018|          Vente|           null|   null|        null|DOMAINE GAYON|       1240|DOMPIERRE-SUR-VEYLE|              01|                     null|               null|                     null|            775| 2018|\n",
              "|   28/02/2018|          Vente|           null|   null|        null|DOMAINE GAYON|       1240|DOMPIERRE-SUR-VEYLE|              01|                     null|               null|                     null|           1170| 2018|\n",
              "|   28/02/2018|          Vente|           null|    311|        null|DOMAINE GAYON|       1240|DOMPIERRE-SUR-VEYLE|              01|                     null|                150|                        3|           2115| 2018|\n",
              "|   28/02/2018|          Vente|           null|   null|        null|DOMAINE GAYON|       1240|DOMPIERRE-SUR-VEYLE|              01|                     null|               null|                     null|          17975| 2018|\n",
              "+-------------+---------------+---------------+-------+------------+-------------+-----------+-------------------+----------------+-------------------------+-------------------+-------------------------+---------------+-----+\n",
              "only showing top 20 rows"
            ],
            "text/html": [
              "<table border='1'>\n",
              "<tr><th>Date mutation</th><th>Nature mutation</th><th>Valeur fonciere</th><th>No voie</th><th>Type de voie</th><th>Voie</th><th>Code postal</th><th>Commune</th><th>Code departement</th><th>Surface Carrez du 1er lot</th><th>Surface reelle bati</th><th>Nombre pieces principales</th><th>Surface terrain</th><th>annee</th></tr>\n",
              "<tr><td>15/02/2018</td><td>Vente</td><td>null</td><td>null</td><td>null</td><td>LES PLANS</td><td>1250</td><td>CEYZERIAT</td><td>01</td><td>null</td><td>null</td><td>null</td><td>8494</td><td>2018</td></tr>\n",
              "<tr><td>15/02/2018</td><td>Vente</td><td>null</td><td>null</td><td>null</td><td>LES PLANS</td><td>1250</td><td>CEYZERIAT</td><td>01</td><td>null</td><td>null</td><td>null</td><td>1197</td><td>2018</td></tr>\n",
              "<tr><td>15/02/2018</td><td>Vente</td><td>null</td><td>null</td><td>null</td><td>LES PLANS</td><td>1250</td><td>CEYZERIAT</td><td>01</td><td>null</td><td>null</td><td>null</td><td>20309</td><td>2018</td></tr>\n",
              "<tr><td>15/02/2018</td><td>Vente</td><td>null</td><td>null</td><td>null</td><td>LES PLANS</td><td>1250</td><td>CEYZERIAT</td><td>01</td><td>null</td><td>null</td><td>null</td><td>1435</td><td>2018</td></tr>\n",
              "<tr><td>15/02/2018</td><td>Vente</td><td>null</td><td>null</td><td>null</td><td>LES PLANS</td><td>1250</td><td>CEYZERIAT</td><td>01</td><td>null</td><td>null</td><td>null</td><td>1297</td><td>2018</td></tr>\n",
              "<tr><td>15/02/2018</td><td>Vente</td><td>null</td><td>null</td><td>null</td><td>LES PLANS</td><td>1250</td><td>CEYZERIAT</td><td>01</td><td>null</td><td>null</td><td>null</td><td>5176</td><td>2018</td></tr>\n",
              "<tr><td>15/02/2018</td><td>Vente</td><td>null</td><td>null</td><td>null</td><td>LES PLANS</td><td>1250</td><td>CEYZERIAT</td><td>01</td><td>null</td><td>null</td><td>null</td><td>208</td><td>2018</td></tr>\n",
              "<tr><td>15/02/2018</td><td>Vente</td><td>null</td><td>null</td><td>null</td><td>LES PLANS</td><td>1250</td><td>CEYZERIAT</td><td>01</td><td>null</td><td>null</td><td>null</td><td>1522</td><td>2018</td></tr>\n",
              "<tr><td>15/02/2018</td><td>Vente</td><td>null</td><td>null</td><td>null</td><td>LES PLANS</td><td>1250</td><td>CEYZERIAT</td><td>01</td><td>null</td><td>null</td><td>null</td><td>1423</td><td>2018</td></tr>\n",
              "<tr><td>15/02/2018</td><td>Vente</td><td>null</td><td>null</td><td>null</td><td>LES PLANS</td><td>1250</td><td>CEYZERIAT</td><td>01</td><td>null</td><td>null</td><td>null</td><td>2364</td><td>2018</td></tr>\n",
              "<tr><td>15/02/2018</td><td>Vente</td><td>null</td><td>null</td><td>null</td><td>LES PLANS</td><td>1250</td><td>CEYZERIAT</td><td>01</td><td>null</td><td>null</td><td>null</td><td>3379</td><td>2018</td></tr>\n",
              "<tr><td>28/02/2018</td><td>Vente</td><td>null</td><td>null</td><td>null</td><td>CHEZ BOTTE</td><td>1240</td><td>DOMPIERRE-SUR-VEYLE</td><td>01</td><td>null</td><td>null</td><td>null</td><td>6100</td><td>2018</td></tr>\n",
              "<tr><td>28/02/2018</td><td>Vente</td><td>null</td><td>null</td><td>null</td><td>CHEZ BOTTE</td><td>1240</td><td>DOMPIERRE-SUR-VEYLE</td><td>01</td><td>null</td><td>null</td><td>null</td><td>71215</td><td>2018</td></tr>\n",
              "<tr><td>28/02/2018</td><td>Vente</td><td>null</td><td>null</td><td>null</td><td>CHEZ BOTTE</td><td>1240</td><td>DOMPIERRE-SUR-VEYLE</td><td>01</td><td>null</td><td>null</td><td>null</td><td>20120</td><td>2018</td></tr>\n",
              "<tr><td>28/02/2018</td><td>Vente</td><td>null</td><td>null</td><td>null</td><td>DOMAINE GAYON</td><td>1240</td><td>DOMPIERRE-SUR-VEYLE</td><td>01</td><td>null</td><td>null</td><td>null</td><td>68865</td><td>2018</td></tr>\n",
              "<tr><td>28/02/2018</td><td>Vente</td><td>null</td><td>null</td><td>null</td><td>DOMAINE GAYON</td><td>1240</td><td>DOMPIERRE-SUR-VEYLE</td><td>01</td><td>null</td><td>null</td><td>null</td><td>7125</td><td>2018</td></tr>\n",
              "<tr><td>28/02/2018</td><td>Vente</td><td>null</td><td>null</td><td>null</td><td>DOMAINE GAYON</td><td>1240</td><td>DOMPIERRE-SUR-VEYLE</td><td>01</td><td>null</td><td>null</td><td>null</td><td>775</td><td>2018</td></tr>\n",
              "<tr><td>28/02/2018</td><td>Vente</td><td>null</td><td>null</td><td>null</td><td>DOMAINE GAYON</td><td>1240</td><td>DOMPIERRE-SUR-VEYLE</td><td>01</td><td>null</td><td>null</td><td>null</td><td>1170</td><td>2018</td></tr>\n",
              "<tr><td>28/02/2018</td><td>Vente</td><td>null</td><td>311</td><td>null</td><td>DOMAINE GAYON</td><td>1240</td><td>DOMPIERRE-SUR-VEYLE</td><td>01</td><td>null</td><td>150</td><td>3</td><td>2115</td><td>2018</td></tr>\n",
              "<tr><td>28/02/2018</td><td>Vente</td><td>null</td><td>null</td><td>null</td><td>DOMAINE GAYON</td><td>1240</td><td>DOMPIERRE-SUR-VEYLE</td><td>01</td><td>null</td><td>null</td><td>null</td><td>17975</td><td>2018</td></tr>\n",
              "</table>\n",
              "only showing top 20 rows\n"
            ]
          },
          "metadata": {},
          "execution_count": 26
        }
      ]
    },
    {
      "cell_type": "code",
      "source": [
        "nn_df = merged_df.filter(col(\"Valeur fonciere\").isNotNull())\n",
        "nn_df = merged_df.filter(col(\"Surface reelle bati\").isNotNull()&(col(\"Surface reelle bati\") != 0))"
      ],
      "metadata": {
        "id": "7K5gbwm8llgE"
      },
      "execution_count": 27,
      "outputs": []
    },
    {
      "cell_type": "code",
      "source": [
        "nn_df.show()"
      ],
      "metadata": {
        "id": "KGtrNkZlo7De",
        "colab": {
          "base_uri": "https://localhost:8080/"
        },
        "outputId": "2850c76c-d310-446c-c1aa-6f80fa5a63e9"
      },
      "execution_count": 28,
      "outputs": [
        {
          "output_type": "stream",
          "name": "stdout",
          "text": [
            "+-------------+---------------+---------------+-------+------------+--------------------+-----------+--------------------+----------------+-------------------------+-------------------+-------------------------+---------------+-----+\n",
            "|Date mutation|Nature mutation|Valeur fonciere|No voie|Type de voie|                Voie|Code postal|             Commune|Code departement|Surface Carrez du 1er lot|Surface reelle bati|Nombre pieces principales|Surface terrain|annee|\n",
            "+-------------+---------------+---------------+-------+------------+--------------------+-----------+--------------------+----------------+-------------------------+-------------------+-------------------------+---------------+-----+\n",
            "|   03/01/2018|          Vente|      109000,00|     13|         RUE|         GEN LOGEROT|       1000|     BOURG-EN-BRESSE|              01|                     null|                 73|                        4|           null| 2018|\n",
            "|   04/01/2018|          Vente|      239300,00|      4|         RUE|      DE LA BARMETTE|       1250|    NIVIGNE ET SURAN|              01|                     null|                163|                        4|            949| 2018|\n",
            "|   04/01/2018|          Vente|      239300,00|      4|         RUE|      DE LA BARMETTE|       1250|    NIVIGNE ET SURAN|              01|                     null|                163|                        4|            420| 2018|\n",
            "|   04/01/2018|          Vente|      239300,00|      4|         RUE|      DE LA BARMETTE|       1250|    NIVIGNE ET SURAN|              01|                     null|                 51|                        2|            420| 2018|\n",
            "|   04/01/2018|          Vente|      239300,00|      4|         RUE|      DE LA BARMETTE|       1250|    NIVIGNE ET SURAN|              01|                     null|                 51|                        2|            949| 2018|\n",
            "|   04/01/2018|          Vente|       90000,00|   5050|        null|         LE DRUILLET|       1380|SAINT-CYR-SUR-MEN...|              01|                     null|                150|                        3|            347| 2018|\n",
            "|   04/01/2018|          Vente|       67000,00|     12|         ALL|DE LA PETITE REYS...|       1000|     BOURG-EN-BRESSE|              01|                     null|                 45|                        1|           null| 2018|\n",
            "|   11/01/2018|          Vente|       76200,00|      5|         RUE|             MOLIERE|       1000|     BOURG-EN-BRESSE|              01|                     null|                 68|                        3|           null| 2018|\n",
            "|   18/01/2018|          Vente|       65000,00|     50|         RUE|           DOC NODET|       1000|     BOURG-EN-BRESSE|              01|                     null|                 69|                        3|           null| 2018|\n",
            "|   10/01/2018|          Vente|       47600,00|     30|          AV|         JEAN JAURES|       1000|     BOURG-EN-BRESSE|              01|                    44,12|                 45|                        2|           null| 2018|\n",
            "|   08/01/2018|          Vente|       47700,00|    800|         RTE|          DE SEILLON|       1240|                LENT|              01|                     null|                225|                        5|            640| 2018|\n",
            "|   09/01/2018|          Vente|       90000,00|   5047|        null|            LE POYET|       1380|      BAGE-DOMMARTIN|              01|                     null|                120|                        3|           2416| 2018|\n",
            "|   12/01/2018|          Vente|      130000,00|     10|         RUE|         DE LA POMPE|       1160|            VARAMBON|              01|                     null|                 80|                        3|             55| 2018|\n",
            "|   16/01/2018|          Vente|      224750,00|   5157|        null|       GROSSE PIERRE|       1160|               PRIAY|              01|                     null|                115|                        5|            673| 2018|\n",
            "|   05/01/2018|          Vente|      100000,00|      1|         RUE|     ARISTIDE BRIAND|       1000|     BOURG-EN-BRESSE|              01|                     null|                 84|                        4|           null| 2018|\n",
            "|   15/01/2018|          Vente|       80000,00|   5234|        null|        AU GROS LOUP|       1570|             MANZIAT|              01|                     null|                180|                        2|           1007| 2018|\n",
            "|   15/01/2018|          Vente|       80000,00|   5234|        null|        AU GROS LOUP|       1570|             MANZIAT|              01|                     null|                295|                        0|           1007| 2018|\n",
            "|   15/01/2018|          Vente|       80000,00|   5536|        null|        AU GROS LOUP|       1570|             MANZIAT|              01|                     null|                390|                        0|            630| 2018|\n",
            "|   04/01/2018|          Vente|      164370,00|     56|         ALL|   DU COURLIS CENDRE|       1290|CORMORANCHE-SUR-S...|              01|                     null|                 88|                        4|            419| 2018|\n",
            "|   15/01/2018|          Vente|       97000,00|      9|         RUE|    DU CHATEAU D EAU|       1750|SAINT-LAURENT-SUR...|              01|                    97,13|                 90|                        4|           null| 2018|\n",
            "+-------------+---------------+---------------+-------+------------+--------------------+-----------+--------------------+----------------+-------------------------+-------------------+-------------------------+---------------+-----+\n",
            "only showing top 20 rows\n",
            "\n"
          ]
        }
      ]
    },
    {
      "cell_type": "code",
      "source": [
        "nn_df.count()"
      ],
      "metadata": {
        "colab": {
          "base_uri": "https://localhost:8080/"
        },
        "id": "2SrTfcLvzjvP",
        "outputId": "f9163848-795b-4b84-90c2-0df07f0c284b"
      },
      "execution_count": 29,
      "outputs": [
        {
          "output_type": "execute_result",
          "data": {
            "text/plain": [
              "7194203"
            ]
          },
          "metadata": {},
          "execution_count": 29
        }
      ]
    },
    {
      "cell_type": "code",
      "source": [
        "nn_deduplicated_df = nn_df.dropDuplicates(subset=[\"Date mutation\",\"Valeur fonciere\", \"No voie\", \"Code postal\", \"Commune\"])"
      ],
      "metadata": {
        "id": "6Lu-jfbzEriz"
      },
      "execution_count": 30,
      "outputs": []
    },
    {
      "cell_type": "code",
      "source": [
        "nn_deduplicated_df.count()"
      ],
      "metadata": {
        "colab": {
          "base_uri": "https://localhost:8080/"
        },
        "id": "H5GxQBJazq8E",
        "outputId": "198d7bb4-e592-4b23-ff77-939a5632c34a"
      },
      "execution_count": 31,
      "outputs": [
        {
          "output_type": "execute_result",
          "data": {
            "text/plain": [
              "5440744"
            ]
          },
          "metadata": {},
          "execution_count": 31
        }
      ]
    },
    {
      "cell_type": "code",
      "source": [
        "nn_deduplicated_df = nn_deduplicated_df.filter(nn_deduplicated_df[\"Nature mutation\"] == \"Vente\")"
      ],
      "metadata": {
        "id": "oL3yWruhN_kf"
      },
      "execution_count": 32,
      "outputs": []
    },
    {
      "cell_type": "code",
      "source": [
        "nn_deduplicated_df.count()"
      ],
      "metadata": {
        "colab": {
          "base_uri": "https://localhost:8080/"
        },
        "id": "UVyT_ubKzw_m",
        "outputId": "f6bae684-bf23-49e2-c142-edf432df1474"
      },
      "execution_count": 33,
      "outputs": [
        {
          "output_type": "execute_result",
          "data": {
            "text/plain": [
              "5248687"
            ]
          },
          "metadata": {},
          "execution_count": 33
        }
      ]
    },
    {
      "cell_type": "code",
      "source": [
        "nn_deduplicated_df.count()"
      ],
      "metadata": {
        "colab": {
          "base_uri": "https://localhost:8080/"
        },
        "id": "QJ379zTHz0Dd",
        "outputId": "a3ae956a-f4d2-4146-8311-a9fad6738bdb"
      },
      "execution_count": 35,
      "outputs": [
        {
          "output_type": "execute_result",
          "data": {
            "text/plain": [
              "5241149"
            ]
          },
          "metadata": {},
          "execution_count": 35
        }
      ]
    },
    {
      "cell_type": "code",
      "source": [
        "#nn_deduplicated_df = nn_deduplicated_df.filter(nn_deduplicated_df[\"Type de voie\"] != \"Vente\")"
      ],
      "metadata": {
        "id": "1JpqBWSJz8J3"
      },
      "execution_count": 36,
      "outputs": []
    },
    {
      "cell_type": "code",
      "source": [
        "nn_deduplicated_df = nn_deduplicated_df.filter(col(\"Type de voie\").isNotNull())"
      ],
      "metadata": {
        "id": "IFvpEjNc1BiU"
      },
      "execution_count": 62,
      "outputs": []
    },
    {
      "cell_type": "code",
      "source": [
        "nn_deduplicated_df.printSchema()\n"
      ],
      "metadata": {
        "colab": {
          "base_uri": "https://localhost:8080/"
        },
        "id": "vCVbBbcTxnHY",
        "outputId": "41370383-b4dc-4408-c041-c0523a59cb07"
      },
      "execution_count": 38,
      "outputs": [
        {
          "output_type": "stream",
          "name": "stdout",
          "text": [
            "root\n",
            " |-- Date mutation: string (nullable = true)\n",
            " |-- Nature mutation: string (nullable = true)\n",
            " |-- Valeur fonciere: string (nullable = true)\n",
            " |-- No voie: string (nullable = true)\n",
            " |-- Type de voie: string (nullable = true)\n",
            " |-- Voie: string (nullable = true)\n",
            " |-- Code postal: string (nullable = true)\n",
            " |-- Commune: string (nullable = true)\n",
            " |-- Code departement: string (nullable = true)\n",
            " |-- Surface Carrez du 1er lot: string (nullable = true)\n",
            " |-- Surface reelle bati: string (nullable = true)\n",
            " |-- Nombre pieces principales: string (nullable = true)\n",
            " |-- Surface terrain: string (nullable = true)\n",
            " |-- annee: integer (nullable = true)\n",
            "\n"
          ]
        }
      ]
    },
    {
      "cell_type": "code",
      "source": [
        "from pyspark.sql.functions import col, translate, sum\n",
        "\n",
        "nn_deduplicated_df = nn_deduplicated_df.withColumn(\"Valeur fonciere\", translate(col(\"Valeur fonciere\"), \",\", \".\"))\n",
        "nn_deduplicated_df = nn_deduplicated_df.withColumn(\"Valeur fonciere\", col(\"Valeur fonciere\").cast(\"integer\"))"
      ],
      "metadata": {
        "id": "S-KARBSsyN44"
      },
      "execution_count": 63,
      "outputs": []
    },
    {
      "cell_type": "code",
      "source": [
        "nn_deduplicated_df = nn_deduplicated_df.filter(nn_deduplicated_df[\"Valeur fonciere\"] < 2500000)"
      ],
      "metadata": {
        "id": "Llafn44dq61N"
      },
      "execution_count": 103,
      "outputs": []
    },
    {
      "cell_type": "code",
      "source": [
        "nn_deduplicated_df.show()"
      ],
      "metadata": {
        "colab": {
          "base_uri": "https://localhost:8080/"
        },
        "id": "T-87ox3LsQh-",
        "outputId": "c8b6bed7-acba-4cd9-bd24-56596124e7e8"
      },
      "execution_count": 104,
      "outputs": [
        {
          "output_type": "stream",
          "name": "stdout",
          "text": [
            "+-------------+---------------+---------------+-------+------------+--------------------+-----------+--------------------+----------------+-------------------------+-------------------+-------------------------+---------------+-----+\n",
            "|Date mutation|Nature mutation|Valeur fonciere|No voie|Type de voie|                Voie|Code postal|             Commune|Code departement|Surface Carrez du 1er lot|Surface reelle bati|Nombre pieces principales|Surface terrain|annee|\n",
            "+-------------+---------------+---------------+-------+------------+--------------------+-----------+--------------------+----------------+-------------------------+-------------------+-------------------------+---------------+-----+\n",
            "|   13/01/2020|          Vente|          96000|   null|         LOT|RESIDENCE DE BACC...|      64400|               AGNOS|              64|                     null|                102|                        4|            824| 2020|\n",
            "|   08/01/2020|          Vente|         345000|   null|         RES|        LES CYCLADES|      20000|             AJACCIO|              2A|                     null|                 54|                        2|           null| 2020|\n",
            "|   12/06/2019|          Vente|         205000|   null|         RES|          A PIAGHJIA|      20166|         ALBITRECCIA|              2A|                    14,00|                 51|                        2|           null| 2019|\n",
            "|   26/04/2018|          Vente|          25000|   null|         RUE|         DU FAUCIGNY|      74100|           ANNEMASSE|              74|                     null|                 23|                        1|           null| 2018|\n",
            "|   10/02/2021|          Vente|         156074|   null|         RES|GOURDE LIANE A GO...|      97122|        BAIE MAHAULT|             971|                     null|                 69|                        4|           null| 2021|\n",
            "|   10/08/2020|          Vente|         180000|   null|         RES|LA GRIVELIERE A M...|      97122|        BAIE MAHAULT|             971|                    69,30|                 69|                        3|           null| 2020|\n",
            "|   15/12/2021|          Vente|         192600|   null|         RES|GOURDE LIANE A GO...|      97122|        BAIE MAHAULT|             971|                     null|                 69|                        4|           null| 2021|\n",
            "|   24/09/2020|          Vente|         185500|   null|         RES|CALYPSO A GOURDEL...|      97122|        BAIE MAHAULT|             971|                    63,25|                 64|                        3|           null| 2020|\n",
            "|   01/10/2018|          Vente|         122000|   null|         RTE|          DE L ARUAN|      33640|           BEAUTIRAN|              33|                     null|                 48|                        2|           null| 2018|\n",
            "|   15/12/2021|          Vente|         174400|   null|         RTE|         DE LA FORET|      66210|            BOLQUERE|              66|                    79,60|                 90|                        3|           null| 2021|\n",
            "|   03/06/2020|          Vente|         230000|   null|          VC|RES LES MARINES D...|      14390|             CABOURG|              14|                     null|                 54|                        3|           null| 2020|\n",
            "|   26/01/2021|          Vente|         120000|   null|         TRA|      DE VILLEDAIGNE|      11200|        CANET D AUDE|              11|                     null|                 56|                        2|            622| 2021|\n",
            "|   05/07/2022|          Vente|         224000|   null|        QUAI|      DE LA PECHERIE|      40130|           CAPBRETON|              40|                    30,27|                 30|                        1|           null| 2022|\n",
            "|   26/06/2019|          Vente|         159000|   null|        QUAI|      DE LA PECHERIE|      40130|           CAPBRETON|              40|                    32,25|                 32|                        2|           null| 2019|\n",
            "|   08/12/2018|          Vente|         104000|   null|         RES|        LES ESTUDOMS|      97300|             CAYENNE|             973|                     null|                 42|                        2|           null| 2018|\n",
            "|   24/10/2018|          Vente|          75000|   null|         RTE|LA MADELEINE COTE...|      97300|             CAYENNE|             973|                     null|                 27|                        1|           null| 2018|\n",
            "|   31/08/2018|          Vente|          94000|   null|         RUE|DES VIEILLES CASE...|      51000|CHALONS EN CHAMPAGNE|              51|                    75,82|                 74|                        3|           null| 2018|\n",
            "|   18/10/2022|          Vente|         121214|   null|        PARC|        DE L'AILETTE|       2860|          CHAMOUILLE|              02|                    57,30|                 57|                        0|           null| 2022|\n",
            "|   25/09/2020|          Vente|         284615|   null|         RUE|           ABREUVOIR|      94220|   CHARENTON-LE-PONT|              94|                     null|                 30|                        1|           null| 2020|\n",
            "|   25/07/2018|          Vente|         221500|   null|         RUE|            OMER TAN|      77590|         CHARTRETTES|              77|                     null|                 68|                        3|           null| 2018|\n",
            "+-------------+---------------+---------------+-------+------------+--------------------+-----------+--------------------+----------------+-------------------------+-------------------+-------------------------+---------------+-----+\n",
            "only showing top 20 rows\n",
            "\n"
          ]
        }
      ]
    },
    {
      "cell_type": "code",
      "source": [
        "nn_deduplicated_df.count()"
      ],
      "metadata": {
        "colab": {
          "base_uri": "https://localhost:8080/"
        },
        "id": "cBBRec6pDjxH",
        "outputId": "036d694e-3da6-46d8-e6b4-2195c410bd51"
      },
      "execution_count": 105,
      "outputs": [
        {
          "output_type": "execute_result",
          "data": {
            "text/plain": [
              "4661719"
            ]
          },
          "metadata": {},
          "execution_count": 105
        }
      ]
    },
    {
      "cell_type": "code",
      "source": [
        "yearly_values = nn_deduplicated_df.groupBy(\"annee\").agg(sum(\"Valeur fonciere\").alias(\"Total Valeur Fonciere\")).orderBy(\"annee\")\n",
        "yearly_values.show()"
      ],
      "metadata": {
        "colab": {
          "base_uri": "https://localhost:8080/"
        },
        "id": "WWsYN5wnsOOm",
        "outputId": "40f76e00-9d91-4bf3-f3a6-d156e3e95b70"
      },
      "execution_count": 106,
      "outputs": [
        {
          "output_type": "stream",
          "name": "stdout",
          "text": [
            "+-----+---------------------+\n",
            "|annee|Total Valeur Fonciere|\n",
            "+-----+---------------------+\n",
            "| 2018|         188360681188|\n",
            "| 2019|         213219256290|\n",
            "| 2020|         210909339181|\n",
            "| 2021|         262099124820|\n",
            "| 2022|         232319314381|\n",
            "+-----+---------------------+\n",
            "\n"
          ]
        }
      ]
    },
    {
      "cell_type": "code",
      "source": [
        "yearly_values_pd = yearly_values.toPandas()"
      ],
      "metadata": {
        "id": "D2OyCshS1Wcm"
      },
      "execution_count": 107,
      "outputs": []
    },
    {
      "cell_type": "code",
      "source": [
        "import matplotlib.pyplot as plt\n",
        "\n",
        "plt.figure(figsize=(10, 5))\n",
        "plt.plot(yearly_values_pd[\"annee\"], yearly_values_pd[\"Total Valeur Fonciere\"], marker='o')\n",
        "plt.xlabel('Year')\n",
        "plt.ylabel('Total Valeur Fonciere')\n",
        "plt.title('Evolution of Valeur Fonciere (2018-2022)')\n",
        "plt.xticks(yearly_values_pd[\"annee\"])\n",
        "plt.grid()\n",
        "plt.show()"
      ],
      "metadata": {
        "colab": {
          "base_uri": "https://localhost:8080/",
          "height": 487
        },
        "id": "tXkreIqR1Yvs",
        "outputId": "4a781516-3153-4e26-de6f-8c7b53350b36"
      },
      "execution_count": 85,
      "outputs": [
        {
          "output_type": "display_data",
          "data": {
            "text/plain": [
              "<Figure size 1000x500 with 1 Axes>"
            ],
            "image/png": "[encoded data removed]"
          },
          "metadata": {}
        }
      ]
    },
    {
      "cell_type": "code",
      "source": [
        "dept_yearly_values = nn_deduplicated_df.groupBy([\"annee\", \"Code departement\"]).agg(sum(\"Valeur fonciere\").alias(\"Total Valeur Fonciere\")).orderBy(\"annee\", \"Code departement\")\n",
        "dept_yearly_values.show()"
      ],
      "metadata": {
        "colab": {
          "base_uri": "https://localhost:8080/"
        },
        "id": "YTEKQ988wRrv",
        "outputId": "7009a6b0-359c-426c-ebdd-41ecc6677394"
      },
      "execution_count": 108,
      "outputs": [
        {
          "output_type": "stream",
          "name": "stdout",
          "text": [
            "+-----+----------------+---------------------+\n",
            "|annee|Code departement|Total Valeur Fonciere|\n",
            "+-----+----------------+---------------------+\n",
            "| 2018|              01|           1800898843|\n",
            "| 2018|              02|            753398416|\n",
            "| 2018|              03|            442914165|\n",
            "| 2018|              04|            233106434|\n",
            "| 2018|              05|            250754800|\n",
            "| 2018|              06|           7336783466|\n",
            "| 2018|              07|            447669184|\n",
            "| 2018|              08|            321770539|\n",
            "| 2018|              09|            181699140|\n",
            "| 2018|              10|            523266036|\n",
            "| 2018|              11|            896075518|\n",
            "| 2018|              12|            304535644|\n",
            "| 2018|              13|           6580008516|\n",
            "| 2018|              14|           2043661939|\n",
            "| 2018|              15|            130292406|\n",
            "| 2018|              16|            539289559|\n",
            "| 2018|              17|           2923594420|\n",
            "| 2018|              18|            395641557|\n",
            "| 2018|              19|            250971976|\n",
            "| 2018|              21|           1441132944|\n",
            "+-----+----------------+---------------------+\n",
            "only showing top 20 rows\n",
            "\n"
          ]
        }
      ]
    },
    {
      "cell_type": "code",
      "source": [
        "dept_yearly_values_pd = dept_yearly_values.toPandas()\n"
      ],
      "metadata": {
        "id": "Z7901SorykQm"
      },
      "execution_count": 109,
      "outputs": []
    },
    {
      "cell_type": "code",
      "source": [
        "!pip install seaborn"
      ],
      "metadata": {
        "colab": {
          "base_uri": "https://localhost:8080/"
        },
        "id": "e7V4hbPtyrig",
        "outputId": "c602a5f6-36bb-41ce-ab4c-188b9247084a"
      },
      "execution_count": 88,
      "outputs": [
        {
          "output_type": "stream",
          "name": "stdout",
          "text": [
            "Looking in indexes: https://pypi.org/simple, https://us-python.pkg.dev/colab-wheels/public/simple/\n",
            "Requirement already satisfied: seaborn in /usr/local/lib/python3.9/dist-packages (0.12.2)\n",
            "Requirement already satisfied: numpy!=1.24.0,>=1.17 in /usr/local/lib/python3.9/dist-packages (from seaborn) (1.22.4)\n",
            "Requirement already satisfied: pandas>=0.25 in /usr/local/lib/python3.9/dist-packages (from seaborn) (1.5.3)\n",
            "Requirement already satisfied: matplotlib!=3.6.1,>=3.1 in /usr/local/lib/python3.9/dist-packages (from seaborn) (3.7.1)\n",
            "Requirement already satisfied: pyparsing>=2.3.1 in /usr/local/lib/python3.9/dist-packages (from matplotlib!=3.6.1,>=3.1->seaborn) (3.0.9)\n",
            "Requirement already satisfied: fonttools>=4.22.0 in /usr/local/lib/python3.9/dist-packages (from matplotlib!=3.6.1,>=3.1->seaborn) (4.39.3)\n",
            "Requirement already satisfied: python-dateutil>=2.7 in /usr/local/lib/python3.9/dist-packages (from matplotlib!=3.6.1,>=3.1->seaborn) (2.8.2)\n",
            "Requirement already satisfied: kiwisolver>=1.0.1 in /usr/local/lib/python3.9/dist-packages (from matplotlib!=3.6.1,>=3.1->seaborn) (1.4.4)\n",
            "Requirement already satisfied: contourpy>=1.0.1 in /usr/local/lib/python3.9/dist-packages (from matplotlib!=3.6.1,>=3.1->seaborn) (1.0.7)\n",
            "Requirement already satisfied: cycler>=0.10 in /usr/local/lib/python3.9/dist-packages (from matplotlib!=3.6.1,>=3.1->seaborn) (0.11.0)\n",
            "Requirement already satisfied: pillow>=6.2.0 in /usr/local/lib/python3.9/dist-packages (from matplotlib!=3.6.1,>=3.1->seaborn) (8.4.0)\n",
            "Requirement already satisfied: importlib-resources>=3.2.0 in /usr/local/lib/python3.9/dist-packages (from matplotlib!=3.6.1,>=3.1->seaborn) (5.12.0)\n",
            "Requirement already satisfied: packaging>=20.0 in /usr/local/lib/python3.9/dist-packages (from matplotlib!=3.6.1,>=3.1->seaborn) (23.1)\n",
            "Requirement already satisfied: pytz>=2020.1 in /usr/local/lib/python3.9/dist-packages (from pandas>=0.25->seaborn) (2022.7.1)\n",
            "Requirement already satisfied: zipp>=3.1.0 in /usr/local/lib/python3.9/dist-packages (from importlib-resources>=3.2.0->matplotlib!=3.6.1,>=3.1->seaborn) (3.15.0)\n",
            "Requirement already satisfied: six>=1.5 in /usr/local/lib/python3.9/dist-packages (from python-dateutil>=2.7->matplotlib!=3.6.1,>=3.1->seaborn) (1.16.0)\n"
          ]
        }
      ]
    },
    {
      "cell_type": "code",
      "source": [
        "import seaborn as sns\n",
        "import matplotlib.pyplot as plt\n",
        "\n",
        "plt.figure(figsize=(20, 10))\n",
        "sns.barplot(data=dept_yearly_values_pd, x='Code departement', y='Total Valeur Fonciere', hue='annee', palette='muted')\n",
        "plt.xlabel('Department Code')\n",
        "plt.ylabel('Total Valeur Fonciere')\n",
        "plt.title('Total Valeur Fonciere per Department (2018-2022)')\n",
        "plt.legend(title='Year')\n",
        "plt.show()"
      ],
      "metadata": {
        "colab": {
          "base_uri": "https://localhost:8080/",
          "height": 575
        },
        "id": "BJ_w7vzcymn2",
        "outputId": "c43e252a-fe75-44d6-9149-fea2d13706a2"
      },
      "execution_count": 89,
      "outputs": [
        {
          "output_type": "display_data",
          "data": {
            "text/plain": [
              "<Figure size 2000x1000 with 1 Axes>"
            ],
            "image/png": "[encoded data removed]"
          },
          "metadata": {}
        }
      ]
    },
    {
      "cell_type": "code",
      "source": [
        "dept59_yearly_values = dept_yearly_values.filter(col(\"Code departement\") == \"59\").orderBy(\"annee\")\n",
        "dept59_yearly_values.show()"
      ],
      "metadata": {
        "colab": {
          "base_uri": "https://localhost:8080/"
        },
        "id": "GoRrqeOV1Lkj",
        "outputId": "8f668ece-e4ce-4032-ed40-435c075685ea"
      },
      "execution_count": 110,
      "outputs": [
        {
          "output_type": "stream",
          "name": "stdout",
          "text": [
            "+-----+----------------+---------------------+\n",
            "|annee|Code departement|Total Valeur Fonciere|\n",
            "+-----+----------------+---------------------+\n",
            "| 2018|              59|           6369627731|\n",
            "| 2019|              59|           7146483366|\n",
            "| 2020|              59|           7285226895|\n",
            "| 2021|              59|           8596671126|\n",
            "| 2022|              59|           8472691918|\n",
            "+-----+----------------+---------------------+\n",
            "\n"
          ]
        }
      ]
    },
    {
      "cell_type": "code",
      "source": [
        "dept59_yearly_values.count()"
      ],
      "metadata": {
        "colab": {
          "base_uri": "https://localhost:8080/"
        },
        "id": "Hm5hfm3YDykk",
        "outputId": "2e4301ba-61d8-486b-a102-2f89b00eacfe"
      },
      "execution_count": 111,
      "outputs": [
        {
          "output_type": "execute_result",
          "data": {
            "text/plain": [
              "5"
            ]
          },
          "metadata": {},
          "execution_count": 111
        }
      ]
    },
    {
      "cell_type": "code",
      "source": [
        "dept59_yearly_values_pd = dept59_yearly_values.toPandas()\n"
      ],
      "metadata": {
        "id": "1i86fRbj1P3X"
      },
      "execution_count": 112,
      "outputs": []
    },
    {
      "cell_type": "code",
      "source": [
        "plt.figure(figsize=(10, 5))\n",
        "plt.bar(dept59_yearly_values_pd[\"annee\"], dept59_yearly_values_pd[\"Total Valeur Fonciere\"])\n",
        "plt.xlabel('Year')\n",
        "plt.ylabel('Total Valeur Fonciere')\n",
        "plt.title('Total Valeur Fonciere in Department 59 (2018-2022)')\n",
        "plt.xticks(dept59_yearly_values_pd[\"annee\"])\n",
        "plt.show()"
      ],
      "metadata": {
        "colab": {
          "base_uri": "https://localhost:8080/",
          "height": 487
        },
        "id": "UJRiYWLo1TqK",
        "outputId": "f432aac4-003f-43bd-976a-5707ab9b5a1d"
      },
      "execution_count": 93,
      "outputs": [
        {
          "output_type": "display_data",
          "data": {
            "text/plain": [
              "<Figure size 1000x500 with 1 Axes>"
            ],
            "image/png": "[encoded data removed]"
          },
          "metadata": {}
        }
      ]
    },
    {
      "cell_type": "code",
      "source": [
        "from pyspark.sql.functions import mean\n",
        "\n",
        "dept_yearly_avg_values = nn_deduplicated_df.groupBy([\"annee\", \"Code departement\"]).agg(mean(\"Valeur fonciere\").alias(\"Average Valeur Fonciere\")).orderBy(\"annee\", \"Code departement\")\n",
        "dept_yearly_avg_values.show()"
      ],
      "metadata": {
        "colab": {
          "base_uri": "https://localhost:8080/"
        },
        "id": "_r6SKO761pb6",
        "outputId": "b4343c85-9201-47e6-df07-3cdcbcb2db39"
      },
      "execution_count": 113,
      "outputs": [
        {
          "output_type": "stream",
          "name": "stdout",
          "text": [
            "+-----+----------------+-----------------------+\n",
            "|annee|Code departement|Average Valeur Fonciere|\n",
            "+-----+----------------+-----------------------+\n",
            "| 2018|              01|     230088.00856011244|\n",
            "| 2018|              02|     122763.30715333225|\n",
            "| 2018|              03|     105030.62959449846|\n",
            "| 2018|              04|     147816.38173747621|\n",
            "| 2018|              05|     160946.59820282413|\n",
            "| 2018|              06|      287423.9389641934|\n",
            "| 2018|              07|      154849.2507782774|\n",
            "| 2018|              08|     109483.00068050357|\n",
            "| 2018|              09|     113137.69613947696|\n",
            "| 2018|              10|     125573.80273578114|\n",
            "| 2018|              11|     133782.54971633325|\n",
            "| 2018|              12|      121619.6661341853|\n",
            "| 2018|              13|      239290.4398865372|\n",
            "| 2018|              14|     180615.28404772427|\n",
            "| 2018|              15|     101870.52853792025|\n",
            "| 2018|              16|     130515.38213939981|\n",
            "| 2018|              17|      213994.6142585273|\n",
            "| 2018|              18|     110855.01737181284|\n",
            "| 2018|              19|     116731.15162790698|\n",
            "| 2018|              21|     168514.14218896165|\n",
            "+-----+----------------+-----------------------+\n",
            "only showing top 20 rows\n",
            "\n"
          ]
        }
      ]
    },
    {
      "cell_type": "code",
      "source": [
        "dept59_yearly_avg_values = dept_yearly_avg_values.filter(col(\"Code departement\") == \"59\").orderBy(\"annee\")\n",
        "dept59_yearly_avg_values.show()\n"
      ],
      "metadata": {
        "colab": {
          "base_uri": "https://localhost:8080/"
        },
        "id": "IlBDjsCv1zXi",
        "outputId": "a5b09d33-ed34-4857-9706-d227168d3340"
      },
      "execution_count": 114,
      "outputs": [
        {
          "output_type": "stream",
          "name": "stdout",
          "text": [
            "+-----+----------------+-----------------------+\n",
            "|annee|Code departement|Average Valeur Fonciere|\n",
            "+-----+----------------+-----------------------+\n",
            "| 2018|              59|     183483.44320898748|\n",
            "| 2019|              59|      186465.6725460523|\n",
            "| 2020|              59|      195303.9219076725|\n",
            "| 2021|              59|      204960.8069522924|\n",
            "| 2022|              59|      215431.1555849373|\n",
            "+-----+----------------+-----------------------+\n",
            "\n"
          ]
        }
      ]
    },
    {
      "cell_type": "code",
      "source": [
        "dept59_yearly_avg_values_pd = dept59_yearly_avg_values.toPandas()\n"
      ],
      "metadata": {
        "id": "Lxxyg577119R"
      },
      "execution_count": 115,
      "outputs": []
    },
    {
      "cell_type": "code",
      "source": [
        "plt.figure(figsize=(10, 5))\n",
        "plt.plot(dept59_yearly_avg_values_pd[\"annee\"], dept59_yearly_avg_values_pd[\"Average Valeur Fonciere\"], marker='o')\n",
        "plt.xlabel('Year')\n",
        "plt.ylabel('Average Valeur Fonciere')\n",
        "plt.title('Evolution of Average Valeur Fonciere in Department 59 (2018-2022)')\n",
        "plt.xticks(dept59_yearly_avg_values_pd[\"annee\"])\n",
        "plt.grid()\n",
        "plt.show()\n"
      ],
      "metadata": {
        "colab": {
          "base_uri": "https://localhost:8080/",
          "height": 487
        },
        "id": "m7jq51wj134_",
        "outputId": "2f7ded09-7118-4426-ba7a-e13f845984c6"
      },
      "execution_count": 97,
      "outputs": [
        {
          "output_type": "display_data",
          "data": {
            "text/plain": [
              "<Figure size 1000x500 with 1 Axes>"
            ],
            "image/png": "[encoded data removed]"
          },
          "metadata": {}
        }
      ]
    },
    {
      "cell_type": "code",
      "source": [
        "dept59_df = nn_deduplicated_df.filter(col(\"Code departement\") == \"59\")\n",
        "dept59_df_pd = dept59_df.toPandas()\n",
        "dept59_df_pd['Date mutation'] = pd.to_datetime(dept59_df_pd['Date mutation'])\n"
      ],
      "metadata": {
        "colab": {
          "base_uri": "https://localhost:8080/"
        },
        "id": "ri9iKfXA2Oba",
        "outputId": "1b81ca01-186b-4ad2-bcc4-9d2986386a7c"
      },
      "execution_count": 116,
      "outputs": [
        {
          "output_type": "stream",
          "name": "stderr",
          "text": [
            "<ipython-input-116-42631a6d10a7>:3: UserWarning: Parsing dates in DD/MM/YYYY format when dayfirst=False (the default) was specified. This may lead to inconsistently parsed dates! Specify a format to ensure consistent parsing.\n",
            "  dept59_df_pd['Date mutation'] = pd.to_datetime(dept59_df_pd['Date mutation'])\n"
          ]
        }
      ]
    },
    {
      "cell_type": "code",
      "source": [
        "import matplotlib.pyplot as plt\n",
        "import matplotlib.dates as mdates\n",
        "\n",
        "plt.figure(figsize=(10, 5))\n",
        "plt.scatter(dept59_df_pd['Date mutation'], dept59_df_pd['Valeur fonciere'])\n",
        "plt.xlabel('Date')\n",
        "plt.ylabel('Valeur Fonciere')\n",
        "plt.title('Valeur Fonciere in Department 59 (2018-2022) - Scatter Plot')\n",
        "\n",
        "# Set the x-axis to display dates with a specific format\n",
        "plt.gca().xaxis.set_major_formatter(mdates.DateFormatter('%Y-%m'))\n",
        "plt.gca().xaxis.set_major_locator(mdates.YearLocator())\n",
        "\n",
        "plt.xticks(rotation=45)\n",
        "plt.grid()\n",
        "plt.show()\n"
      ],
      "metadata": {
        "colab": {
          "base_uri": "https://localhost:8080/",
          "height": 524
        },
        "id": "2cIqvbiK24Nw",
        "outputId": "0d174c04-42c9-4551-e429-4ea439a13b8c"
      },
      "execution_count": 99,
      "outputs": [
        {
          "output_type": "display_data",
          "data": {
            "text/plain": [
              "<Figure size 1000x500 with 1 Axes>"
            ],
            "image/png": "[encoded data removed]"
          },
          "metadata": {}
        }
      ]
    },
    {
      "cell_type": "code",
      "source": [
        "lille_df = nn_deduplicated_df.filter((nn_deduplicated_df[\"Code departement\"] == \"59\") & (nn_deduplicated_df[\"Commune\"] == \"SAINGHIN-EN-MELANTOIS\"))\n",
        "lille_df.show(n=100)"
      ],
      "metadata": {
        "colab": {
          "base_uri": "https://localhost:8080/"
        },
        "id": "kouQv4vI6hZu",
        "outputId": "cdb4dcea-6899-4d17-c823-4695afc4036d"
      },
      "execution_count": 117,
      "outputs": [
        {
          "output_type": "stream",
          "name": "stdout",
          "text": [
            "+-------------+---------------+---------------+-------+------------+-----------------+-----------+--------------------+----------------+-------------------------+-------------------+-------------------------+---------------+-----+\n",
            "|Date mutation|Nature mutation|Valeur fonciere|No voie|Type de voie|             Voie|Code postal|             Commune|Code departement|Surface Carrez du 1er lot|Surface reelle bati|Nombre pieces principales|Surface terrain|annee|\n",
            "+-------------+---------------+---------------+-------+------------+-----------------+-----------+--------------------+----------------+-------------------------+-------------------+-------------------------+---------------+-----+\n",
            "|   12/01/2022|          Vente|         470000|      8|          AV|          DU PARC|      59262|SAINGHIN-EN-MELAN...|              59|                     null|                 96|                        4|           1018| 2022|\n",
            "|   18/09/2018|          Vente|         327000|    102|         ALL|       DU CHATEAU|      59262|SAINGHIN-EN-MELAN...|              59|                     null|                104|                        4|            356| 2018|\n",
            "|   29/05/2019|          Vente|         440000|   1157|         RUE|          PASTEUR|      59262|SAINGHIN-EN-MELAN...|              59|                     null|                123|                        5|           1000| 2019|\n",
            "|   30/11/2022|          Vente|         310000|    218|         RUE|  DU PETIT LANNOY|      59262|SAINGHIN-EN-MELAN...|              59|                     null|                 91|                        4|            251| 2022|\n",
            "|   30/09/2019|          Vente|         613000|     54|         RUE|          PASTEUR|      59262|SAINGHIN-EN-MELAN...|              59|                     null|                227|                        9|           null| 2019|\n",
            "|   15/10/2019|          Vente|         148000|    831|         RUE|   DU MAL LECLERC|      59262|SAINGHIN-EN-MELAN...|              59|                     null|                 56|                        3|             73| 2019|\n",
            "|   05/10/2018|          Vente|         440000|     11|          AV|          DU PARC|      59262|SAINGHIN-EN-MELAN...|              59|                     null|                108|                        4|           1258| 2018|\n",
            "|   31/08/2021|          Vente|         910000|   1495|         RUE|         DE LILLE|      59262|SAINGHIN-EN-MELAN...|              59|                     null|                248|                        9|            500| 2021|\n",
            "|   11/02/2019|          Vente|         145000|    486|         RUE|          PASTEUR|      59262|SAINGHIN-EN-MELAN...|              59|                     null|                 70|                        4|            216| 2019|\n",
            "|   03/06/2020|          Vente|         250000|   5056|         RTE|       DE PERONNE|      59262|SAINGHIN-EN-MELAN...|              59|                     null|                115|                        3|           null| 2020|\n",
            "|   02/08/2022|          Vente|         650000|   1071|         RUE|         DE LILLE|      59262|SAINGHIN-EN-MELAN...|              59|                     null|                161|                        7|            761| 2022|\n",
            "|   17/12/2020|          Vente|         205000|    110|         RUE|            NEUVE|      59262|SAINGHIN-EN-MELAN...|              59|                     null|                 80|                        5|            424| 2020|\n",
            "|   25/06/2020|          Vente|         382440|    363|         RUE|   DU MAL LECLERC|      59262|SAINGHIN-EN-MELAN...|              59|                     null|                143|                        6|            243| 2020|\n",
            "|   05/03/2021|          Vente|         215000|    226|         RTE|       DE PERONNE|      59262|SAINGHIN-EN-MELAN...|              59|                     null|                103|                        3|            567| 2021|\n",
            "|   19/07/2018|          Vente|         410000|    781|         RUE|          PASTEUR|      59262|SAINGHIN-EN-MELAN...|              59|                     null|                 94|                        4|           2128| 2018|\n",
            "|   25/07/2018|          Vente|         395000|    235|         RUE|          DU FORT|      59262|SAINGHIN-EN-MELAN...|              59|                     null|                141|                        6|           null| 2018|\n",
            "|   05/12/2018|          Vente|         115000|    274|         RUE|DU GRAND SAINGHIN|      59262|SAINGHIN-EN-MELAN...|              59|                     null|                 28|                        1|            199| 2018|\n",
            "|   08/07/2021|          Vente|         279200|     41|         RUE| DU PDT DE GAULLE|      59262|SAINGHIN-EN-MELAN...|              59|                     null|                 76|                        3|            204| 2021|\n",
            "|   24/09/2021|          Vente|         305000|     15|         RUE|DU DOC GUY MARTIN|      59262|SAINGHIN-EN-MELAN...|              59|                     null|                107|                        5|            515| 2021|\n",
            "|   19/10/2022|          Vente|         390230|   1579|         RUE|         DE LILLE|      59262|SAINGHIN-EN-MELAN...|              59|                     null|                194|                        6|            956| 2022|\n",
            "|   28/12/2018|          Vente|         256250|     78|         RUE|        DU MOULIN|      59262|SAINGHIN-EN-MELAN...|              59|                     null|                 16|                        1|            225| 2018|\n",
            "|   24/10/2019|          Vente|         290000|     10|         ALL|    DES RECAILLES|      59262|SAINGHIN-EN-MELAN...|              59|                     null|                101|                        6|           1262| 2019|\n",
            "|   21/09/2018|          Vente|         170000|    641|         RUE|    DE LA NOYELLE|      59262|SAINGHIN-EN-MELAN...|              59|                     null|                 91|                        4|            363| 2018|\n",
            "|   25/04/2022|          Vente|        1350000|     10|         RUE|           HUBBLE|      59262|SAINGHIN-EN-MELAN...|              59|                     null|                849|                        0|           1327| 2022|\n",
            "|   05/02/2021|          Vente|         453500|    145|         RUE|     DE LA MARQUE|      59262|SAINGHIN-EN-MELAN...|              59|                     null|                 78|                        3|           1170| 2021|\n",
            "|   06/12/2022|          Vente|         510000|    146|         CHE|      DES OISEAUX|      59262|SAINGHIN-EN-MELAN...|              59|                     null|                123|                        4|            390| 2022|\n",
            "|   04/11/2022|          Vente|         272190|    404|         RUE|          PASTEUR|      59262|SAINGHIN-EN-MELAN...|              59|                     null|                 80|                        5|            257| 2022|\n",
            "|   03/06/2022|          Vente|         350000|     15|         RUE|   DE LA JONCHERE|      59262|SAINGHIN-EN-MELAN...|              59|                     null|                105|                        5|            233| 2022|\n",
            "|   29/06/2018|          Vente|         150823|     26|         RUE|      ARMEL MARSY|      59262|SAINGHIN-EN-MELAN...|              59|                     null|                 94|                        5|            148| 2018|\n",
            "|   30/01/2019|          Vente|         255000|   2000|         RUE|         DE LILLE|      59262|SAINGHIN-EN-MELAN...|              59|                     null|                107|                        6|            559| 2019|\n",
            "|   01/07/2019|          Vente|         444500|    100|         RUE|        DU MOULIN|      59262|SAINGHIN-EN-MELAN...|              59|                     null|                200|                        7|            774| 2019|\n",
            "|   13/04/2018|          Vente|         203000|     34|         RUE|      ARMEL MARSY|      59262|SAINGHIN-EN-MELAN...|              59|                     null|                110|                        5|            151| 2018|\n",
            "|   07/01/2022|          Vente|         282000|     34|         ALL|       DU CHATEAU|      59262|SAINGHIN-EN-MELAN...|              59|                     null|                 78|                        3|            187| 2022|\n",
            "|   27/12/2021|          Vente|        1000000|    317|         RUE|      DES FAMARTS|      59262|SAINGHIN-EN-MELAN...|              59|                     null|                433|                        0|           1567| 2021|\n",
            "|   23/08/2021|          Vente|         345000|     93|         ALL|       DU CHATEAU|      59262|SAINGHIN-EN-MELAN...|              59|                     null|                 84|                        3|            269| 2021|\n",
            "|   18/10/2018|          Vente|         462000|   1423|         RUE|          PASTEUR|      59262|SAINGHIN-EN-MELAN...|              59|                     null|                104|                        4|            373| 2018|\n",
            "|   23/07/2018|          Vente|        1251600|     60|          AV|    DE L'HARMONIE|      59262|SAINGHIN-EN-MELAN...|              59|                     null|                443|                        0|           null| 2018|\n",
            "|   07/11/2022|          Vente|         420000|     10|         RUE|        DU MOULIN|      59262|SAINGHIN-EN-MELAN...|              59|                     null|                 99|                        5|            997| 2022|\n",
            "|   13/12/2019|          Vente|         152100|    288|         RUE|      ARMEL MARSY|      59262|SAINGHIN-EN-MELAN...|              59|                     null|                 84|                        4|             95| 2019|\n",
            "|   06/02/2019|          Vente|         370000|   2622|         RUE|         DE LILLE|      59262|SAINGHIN-EN-MELAN...|              59|                     null|                200|                        0|            328| 2019|\n",
            "|   25/06/2021|          Vente|         358575|      1|         ALL|       DES CHAMPS|      59262|SAINGHIN-EN-MELAN...|              59|                     null|                100|                        4|            934| 2021|\n",
            "|   13/04/2018|          Vente|         161000|     20|         RUE|      ARMEL MARSY|      59262|SAINGHIN-EN-MELAN...|              59|                     null|                 75|                        4|             70| 2018|\n",
            "|   04/05/2018|          Vente|         670000|    636|         RUE|          PASTEUR|      59262|SAINGHIN-EN-MELAN...|              59|                     null|                209|                        5|           null| 2018|\n",
            "|   26/01/2018|          Vente|         356500|    901|         RUE|         DE LILLE|      59262|SAINGHIN-EN-MELAN...|              59|                     null|                114|                        5|            174| 2018|\n",
            "|   17/05/2022|          Vente|         602000|    203|         RUE|      ARMEL MARSY|      59262|SAINGHIN-EN-MELAN...|              59|                     null|                190|                        7|           1169| 2022|\n",
            "|   04/12/2018|          Vente|         395000|    366|         RUE|DU GRAND SAINGHIN|      59262|SAINGHIN-EN-MELAN...|              59|                     null|                139|                        7|            288| 2018|\n",
            "|   23/08/2021|          Vente|         150000|     14|         RUE|      ARMEL MARSY|      59262|SAINGHIN-EN-MELAN...|              59|                     null|                 71|                        3|             67| 2021|\n",
            "|   30/09/2022|          Vente|        1000000|    175|         RUE|      ARMEL MARSY|      59262|SAINGHIN-EN-MELAN...|              59|                     null|                195|                        7|            429| 2022|\n",
            "|   13/01/2021|          Vente|         279500|   1409|         RUE|         DE LILLE|      59262|SAINGHIN-EN-MELAN...|              59|                     null|                110|                        4|            137| 2021|\n",
            "|   05/09/2018|          Vente|         268000|    312|         RUE|DU GRAND SAINGHIN|      59262|SAINGHIN-EN-MELAN...|              59|                     null|                 90|                        3|            158| 2018|\n",
            "|   29/07/2021|          Vente|         324000|    568|         RUE|          PASTEUR|      59262|SAINGHIN-EN-MELAN...|              59|                     null|                 83|                        4|            500| 2021|\n",
            "|   07/07/2022|          Vente|        1420000|      1|         RUE|           HUBBLE|      59262|SAINGHIN-EN-MELAN...|              59|                     null|                600|                        0|           1348| 2022|\n",
            "|   23/03/2018|          Vente|         140000|      8|         RUE|      ARMEL MARSY|      59262|SAINGHIN-EN-MELAN...|              59|                     null|                 68|                        3|             65| 2018|\n",
            "|   20/09/2019|          Vente|         170000|    423|         RUE|    DE LA NOYELLE|      59262|SAINGHIN-EN-MELAN...|              59|                     null|                 60|                        2|             43| 2019|\n",
            "|   15/07/2019|          Vente|         360000|    353|         RUE|   DU MAL LECLERC|      59262|SAINGHIN-EN-MELAN...|              59|                     null|                118|                        5|            282| 2019|\n",
            "|   23/12/2021|          Vente|         970000|    580|         RUE|    DE LA NOYELLE|      59262|SAINGHIN-EN-MELAN...|              59|                     null|                185|                        5|           1461| 2021|\n",
            "|   12/01/2022|          Vente|         149500|     15|         RUE|  JEAN DUTHILLEUL|      59262|SAINGHIN-EN-MELAN...|              59|                     null|                 56|                        3|            140| 2022|\n",
            "|   16/08/2022|          Vente|         330000|     42|         ALL|       DU CHATEAU|      59262|SAINGHIN-EN-MELAN...|              59|                     null|                 69|                        3|            205| 2022|\n",
            "|   13/01/2020|          Vente|         500000|   1099|         RUE|         DE LILLE|      59262|SAINGHIN-EN-MELAN...|              59|                     null|                113|                        0|            304| 2020|\n",
            "|   29/04/2022|          Vente|         244000|   1403|         RUE|         DE LILLE|      59262|SAINGHIN-EN-MELAN...|              59|                     null|                 70|                        4|            141| 2022|\n",
            "|   18/11/2021|          Vente|         420000|     17|         RUE|     DE LA MARQUE|      59262|SAINGHIN-EN-MELAN...|              59|                     null|                195|                        8|            484| 2021|\n",
            "|   08/07/2021|          Vente|         360000|      2|         ALL|    DE COUTURELLE|      59262|SAINGHIN-EN-MELAN...|              59|                     null|                 24|                        2|            459| 2021|\n",
            "|   03/06/2022|          Vente|         525000|      5|         RUE|DU DOC GUY MARTIN|      59262|SAINGHIN-EN-MELAN...|              59|                     null|                138|                        6|            437| 2022|\n",
            "|   05/02/2021|          Vente|         505000|     11|         ALL|  DES SYMPHORINES|      59262|SAINGHIN-EN-MELAN...|              59|                     null|                112|                        5|            592| 2021|\n",
            "|   21/07/2021|          Vente|         165000|    296|         RUE|      ARMEL MARSY|      59262|SAINGHIN-EN-MELAN...|              59|                     null|                 92|                        4|             88| 2021|\n",
            "|   19/09/2018|          Vente|         390000|     13|         ALL|   DE LA CLOSERIE|      59262|SAINGHIN-EN-MELAN...|              59|                     null|                129|                        6|            504| 2018|\n",
            "|   07/02/2018|          Vente|         245500|    672|         RUE|         DE LILLE|      59262|SAINGHIN-EN-MELAN...|              59|                     null|                 88|                        3|            877| 2018|\n",
            "|   29/10/2021|          Vente|         153000|    104|         RUE|      ARMEL MARSY|      59262|SAINGHIN-EN-MELAN...|              59|                     null|                108|                        3|             60| 2021|\n",
            "|   18/07/2022|          Vente|         602500|    181|         RUE|      ARMEL MARSY|      59262|SAINGHIN-EN-MELAN...|              59|                     null|                138|                        5|            453| 2022|\n",
            "|   19/04/2021|          Vente|         260000|     38|         RUE|   DE LA JONCHERE|      59262|SAINGHIN-EN-MELAN...|              59|                     null|                 80|                        4|            260| 2021|\n",
            "|   28/10/2020|          Vente|         441700|     16|         RUE|  DU BAS SAINGHIN|      59262|SAINGHIN-EN-MELAN...|              59|                     null|                172|                        6|            774| 2020|\n",
            "|   20/04/2018|          Vente|         230000|      6|         RUE|  DU BAS SAINGHIN|      59262|SAINGHIN-EN-MELAN...|              59|                     null|                200|                        7|            594| 2018|\n",
            "|   29/10/2021|          Vente|         460000|    752|         RUE|         DE LILLE|      59262|SAINGHIN-EN-MELAN...|              59|                     null|                145|                        5|            664| 2021|\n",
            "|   05/10/2018|          Vente|         355000|     12|          AV|          DU PARC|      59262|SAINGHIN-EN-MELAN...|              59|                     null|                108|                        5|            796| 2018|\n",
            "|   22/03/2019|          Vente|        1490000|    130|         RUE|        HARRISSON|      59262|SAINGHIN-EN-MELAN...|              59|                     null|                660|                        0|           2752| 2019|\n",
            "|   28/05/2018|          Vente|         530000|   2285|         RUE|         DE LILLE|      59262|SAINGHIN-EN-MELAN...|              59|                     null|                171|                        5|           1765| 2018|\n",
            "|   02/08/2019|          Vente|         225000|     43|         ALL|  DU MOULIN BLANC|      59262|SAINGHIN-EN-MELAN...|              59|                     null|                 88|                        3|            215| 2019|\n",
            "|   07/08/2019|          Vente|         511330|   1379|         RUE|          PASTEUR|      59262|SAINGHIN-EN-MELAN...|              59|                     null|                223|                        6|            595| 2019|\n",
            "|   10/12/2020|          Vente|         290000|    109|         ALL|       DU CHATEAU|      59262|SAINGHIN-EN-MELAN...|              59|                     null|                 85|                        4|            201| 2020|\n",
            "|   18/07/2018|          Vente|         349000|    171|         ALL|       DU CHATEAU|      59262|SAINGHIN-EN-MELAN...|              59|                     null|                109|                        4|            225| 2018|\n",
            "|   07/09/2020|          Vente|         180000|   1987|         RUE|         DE LILLE|      59262|SAINGHIN-EN-MELAN...|              59|                     null|                 68|                        3|            440| 2020|\n",
            "|   26/10/2018|          Vente|         715000|     81|         RUE|     DE LA MARQUE|      59262|SAINGHIN-EN-MELAN...|              59|                     null|                202|                        7|           1500| 2018|\n",
            "|   22/02/2021|          Vente|         574250|   1519|         RUE|         DE LILLE|      59262|SAINGHIN-EN-MELAN...|              59|                     null|                101|                        5|            256| 2021|\n",
            "|   03/02/2022|          Vente|         170000|   2266|         RUE|         DE LILLE|      59262|SAINGHIN-EN-MELAN...|              59|                     null|                 90|                        4|            530| 2022|\n",
            "|   13/10/2021|          Vente|         343000|    915|         RUE|         DE LILLE|      59262|SAINGHIN-EN-MELAN...|              59|                     null|                128|                        3|            574| 2021|\n",
            "|   22/08/2018|          Vente|         347000|      1|         ALL|    DE COUTURELLE|      59262|SAINGHIN-EN-MELAN...|              59|                     null|                131|                        5|            584| 2018|\n",
            "|   30/04/2018|          Vente|         375000|   1863|         RUE|         DE LILLE|      59262|SAINGHIN-EN-MELAN...|              59|                     null|                140|                        6|            310| 2018|\n",
            "|   24/02/2021|          Vente|         141682|     58|         ALL|  DU MOULIN BLANC|      59262|SAINGHIN-EN-MELAN...|              59|                     null|                 88|                        3|            229| 2021|\n",
            "|   07/05/2021|          Vente|         670000|      6|         ALL|    DES AUBEPINES|      59262|SAINGHIN-EN-MELAN...|              59|                     null|                178|                        8|            544| 2021|\n",
            "|   16/06/2020|          Vente|         287000|     10|         RUE|       DES FLEURS|      59262|SAINGHIN-EN-MELAN...|              59|                     null|                106|                        7|            518| 2020|\n",
            "|   30/11/2018|          Vente|          70000|    735|         RUE|          PASTEUR|      59262|SAINGHIN-EN-MELAN...|              59|                     null|                 50|                        1|            190| 2018|\n",
            "|   17/09/2021|          Vente|         315000|    435|         RUE|    DE LA NOYELLE|      59262|SAINGHIN-EN-MELAN...|              59|                     null|                105|                        5|            182| 2021|\n",
            "|   16/12/2019|          Vente|         910000|    145|         RUE|     DE LA MARQUE|      59262|SAINGHIN-EN-MELAN...|              59|                     null|                 78|                        3|           1170| 2019|\n",
            "|   12/04/2018|          Vente|         230750|    110|         RUE|  DE LA GLISSOIRE|      59262|SAINGHIN-EN-MELAN...|              59|                     null|                129|                        5|             58| 2018|\n",
            "|   27/04/2018|          Vente|         175000|    512|         RUE|    DE LA NOYELLE|      59262|SAINGHIN-EN-MELAN...|              59|                     null|                160|                        4|            498| 2018|\n",
            "|   30/07/2020|          Vente|         281000|   2350|         RUE|         DE LILLE|      59262|SAINGHIN-EN-MELAN...|              59|                     null|                 96|                        3|            828| 2020|\n",
            "|   15/06/2022|          Vente|         401000|    752|         RUE|         DE LILLE|      59262|SAINGHIN-EN-MELAN...|              59|                     null|                145|                        5|           null| 2022|\n",
            "|   17/12/2019|          Vente|         211000|    399|         RUE| DU PDT DE GAULLE|      59262|SAINGHIN-EN-MELAN...|              59|                     null|                 60|                        3|            177| 2019|\n",
            "|   20/04/2022|          Vente|         255150|     27|         RUE|  JEAN DUTHILLEUL|      59262|SAINGHIN-EN-MELAN...|              59|                     null|                 75|                        3|             93| 2022|\n",
            "|   04/06/2021|          Vente|         445680|    924|         RUE|  DU BAS SAINGHIN|      59262|SAINGHIN-EN-MELAN...|              59|                     null|                102|                        3|            500| 2021|\n",
            "+-------------+---------------+---------------+-------+------------+-----------------+-----------+--------------------+----------------+-------------------------+-------------------+-------------------------+---------------+-----+\n",
            "only showing top 100 rows\n",
            "\n"
          ]
        }
      ]
    },
    {
      "cell_type": "code",
      "source": [
        "from pyspark.sql.functions import mean\n",
        "dept59_df = nn_deduplicated_df.filter(col(\"Code departement\") == \"59\")\n",
        "commune_avg_values = dept59_df.groupBy(\"Commune\").agg(mean(\"Valeur fonciere\").alias(\"Average Valeur Fonciere\"))\n",
        "sorted_commune_avg_values = commune_avg_values.sort(col(\"Average Valeur Fonciere\").desc())\n",
        "sorted_commune_avg_values.show()"
      ],
      "metadata": {
        "colab": {
          "base_uri": "https://localhost:8080/"
        },
        "id": "HFy3adyyGNyx",
        "outputId": "ad8fd48d-fe5f-4c40-f03b-53c7f5c15caf"
      },
      "execution_count": 118,
      "outputs": [
        {
          "output_type": "stream",
          "name": "stdout",
          "text": [
            "+--------------------+-----------------------+\n",
            "|             Commune|Average Valeur Fonciere|\n",
            "+--------------------+-----------------------+\n",
            "|           MERIGNIES|      485369.3675213675|\n",
            "|              GRUSON|     476580.39344262297|\n",
            "|         ESCOBECQUES|      461076.1904761905|\n",
            "|             BONDUES|      446439.9003984064|\n",
            "| RADINGHEM EN WEPPES|     406798.48913043475|\n",
            "|SAINGHIN-EN-MELAN...|     404828.68131868134|\n",
            "|             LOMPRET|     400036.11811023625|\n",
            "|          VERLINGHEM|     398937.18954248365|\n",
            "|ENNETIERES-EN-WEPPES|      374246.5633802817|\n",
            "|            COBRIEUX|             369100.625|\n",
            "|   CAMPHIN-EN-PEVELE|      364071.4621212121|\n",
            "|             MOUVAUX|      357208.5776545166|\n",
            "|     ARMBOUTS-CAPPEL|     353823.11267605633|\n",
            "|         TOURMIGNIES|      348895.5535714286|\n",
            "|         BOURGHELLES|      345887.5806451613|\n",
            "|              HERRIN|      345808.9285714286|\n",
            "|          LE MAISNIL|     344886.54545454547|\n",
            "|              FRETIN|      341630.2113207547|\n",
            "|    MARCQ EN BAROEUL|     340809.42675654654|\n",
            "|              AVELIN|      340502.7168674699|\n",
            "+--------------------+-----------------------+\n",
            "only showing top 20 rows\n",
            "\n"
          ]
        }
      ]
    },
    {
      "cell_type": "code",
      "source": [
        "dept59_df.dtypes"
      ],
      "metadata": {
        "colab": {
          "base_uri": "https://localhost:8080/"
        },
        "id": "yxAUjk-Dmgh5",
        "outputId": "703dde0b-1838-477d-9991-80ed2a793a22"
      },
      "execution_count": 102,
      "outputs": [
        {
          "output_type": "execute_result",
          "data": {
            "text/plain": [
              "[('Date mutation', 'string'),\n",
              " ('Nature mutation', 'string'),\n",
              " ('Valeur fonciere', 'int'),\n",
              " ('No voie', 'string'),\n",
              " ('Type de voie', 'string'),\n",
              " ('Voie', 'string'),\n",
              " ('Code postal', 'string'),\n",
              " ('Commune', 'string'),\n",
              " ('Code departement', 'string'),\n",
              " ('Surface Carrez du 1er lot', 'string'),\n",
              " ('Surface reelle bati', 'string'),\n",
              " ('Nombre pieces principales', 'string'),\n",
              " ('Surface terrain', 'string'),\n",
              " ('annee', 'int')]"
            ]
          },
          "metadata": {},
          "execution_count": 102
        }
      ]
    }
  ]
}